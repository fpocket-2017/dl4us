{
 "cells": [
  {
   "cell_type": "code",
   "execution_count": 117,
   "metadata": {
    "colab": {
     "autoexec": {
      "startup": false,
      "wait_interval": 0
     }
    },
    "colab_type": "code",
    "collapsed": true,
    "id": "RrO3R8DDZT_B"
   },
   "outputs": [],
   "source": [
    "import os\n",
    "import codecs\n",
    "import re"
   ]
  },
  {
   "cell_type": "code",
   "execution_count": 118,
   "metadata": {
    "colab": {
     "autoexec": {
      "startup": false,
      "wait_interval": 0
     }
    },
    "colab_type": "code",
    "collapsed": true,
    "id": "IbPtjd8iZT_F"
   },
   "outputs": [],
   "source": [
    "import numpy as np\n",
    "import pandas as pd"
   ]
  },
  {
   "cell_type": "code",
   "execution_count": 119,
   "metadata": {
    "colab": {
     "autoexec": {
      "startup": false,
      "wait_interval": 0
     }
    },
    "colab_type": "code",
    "collapsed": true,
    "id": "EOWvPIKyZT_I"
   },
   "outputs": [],
   "source": [
    "import matplotlib.pyplot as plt\n",
    "%matplotlib inline\n",
    "plt.style.use('ggplot')"
   ]
  },
  {
   "cell_type": "code",
   "execution_count": 120,
   "metadata": {
    "colab": {
     "autoexec": {
      "startup": false,
      "wait_interval": 0
     }
    },
    "colab_type": "code",
    "collapsed": true,
    "id": "mWN3459yZT_K"
   },
   "outputs": [],
   "source": [
    "from sklearn.model_selection import train_test_split"
   ]
  },
  {
   "cell_type": "code",
   "execution_count": 121,
   "metadata": {
    "colab": {
     "autoexec": {
      "startup": false,
      "wait_interval": 0
     },
     "base_uri": "https://localhost:8080/",
     "height": 34,
     "output_extras": [
      {
       "item_id": 1
      }
     ]
    },
    "colab_type": "code",
    "collapsed": true,
    "executionInfo": {
     "elapsed": 2668,
     "status": "ok",
     "timestamp": 1521649839746,
     "user": {
      "displayName": "Yoshihiro Shimizu",
      "photoUrl": "https://lh3.googleusercontent.com/a/default-user=s128",
      "userId": "112564627578028744662"
     },
     "user_tz": -540
    },
    "id": "Wav6cxINZT_N",
    "outputId": "aec503e0-c5ed-4d20-a4c9-6416e524f587"
   },
   "outputs": [],
   "source": [
    "from keras.preprocessing.text import Tokenizer\n",
    "from keras.preprocessing.sequence import pad_sequences\n",
    "from keras.utils import to_categorical"
   ]
  },
  {
   "cell_type": "code",
   "execution_count": 122,
   "metadata": {
    "colab": {
     "autoexec": {
      "startup": false,
      "wait_interval": 0
     }
    },
    "colab_type": "code",
    "collapsed": true,
    "id": "U8KLN2ezZT_P"
   },
   "outputs": [],
   "source": [
    "from IPython.display import SVG\n",
    "from keras.utils.vis_utils import model_to_dot"
   ]
  },
  {
   "cell_type": "code",
   "execution_count": 123,
   "metadata": {
    "colab": {
     "autoexec": {
      "startup": false,
      "wait_interval": 0
     }
    },
    "colab_type": "code",
    "collapsed": true,
    "id": "u0Jsm49EZT_R"
   },
   "outputs": [],
   "source": [
    "from tqdm import tqdm"
   ]
  },
  {
   "cell_type": "code",
   "execution_count": 124,
   "metadata": {
    "colab": {
     "autoexec": {
      "startup": false,
      "wait_interval": 0
     }
    },
    "colab_type": "code",
    "collapsed": true,
    "id": "T49jtjghZT_X"
   },
   "outputs": [],
   "source": [
    "np.random.seed(0)"
   ]
  },
  {
   "cell_type": "code",
   "execution_count": 125,
   "metadata": {
    "colab": {
     "autoexec": {
      "startup": false,
      "wait_interval": 0
     }
    },
    "colab_type": "code",
    "collapsed": true,
    "id": "v6kh8KIvZT_Z"
   },
   "outputs": [],
   "source": [
    "languages = set(['EN', 'JP'])\n",
    "data_train = {language: None for language in languages}\n",
    "data_validation = {language: None for language in languages}\n",
    "emb_matrix = {language: None for language in languages}"
   ]
  },
  {
   "cell_type": "code",
   "execution_count": 126,
   "metadata": {
    "colab": {
     "autoexec": {
      "startup": false,
      "wait_interval": 0
     }
    },
    "colab_type": "code",
    "collapsed": true,
    "id": "sCrPO82LZT_c"
   },
   "outputs": [],
   "source": [
    "dim_seq = {language: None for language in languages}\n",
    "dim_vocab = {language: None for language in languages}\n",
    "dim_emb =  {language: 300 for language in languages}\n",
    "tokenizer = {language: None for language in languages}"
   ]
  },
  {
   "cell_type": "code",
   "execution_count": 127,
   "metadata": {
    "colab": {
     "autoexec": {
      "startup": false,
      "wait_interval": 0
     }
    },
    "colab_type": "code",
    "collapsed": true,
    "id": "9PWm5z2VZT_g"
   },
   "outputs": [],
   "source": [
    "detokenizer = {language: None for language in languages}"
   ]
  },
  {
   "cell_type": "code",
   "execution_count": 128,
   "metadata": {
    "colab": {
     "autoexec": {
      "startup": false,
      "wait_interval": 0
     }
    },
    "colab_type": "code",
    "collapsed": true,
    "id": "uD70dWgmZT_i"
   },
   "outputs": [],
   "source": [
    "# Data Preparation"
   ]
  },
  {
   "cell_type": "code",
   "execution_count": 129,
   "metadata": {
    "colab": {
     "autoexec": {
      "startup": false,
      "wait_interval": 0
     }
    },
    "colab_type": "code",
    "collapsed": true,
    "id": "Hlt2ceOWZT_l"
   },
   "outputs": [],
   "source": [
    "def tokenize(lines):\n",
    "    tokenizer = Tokenizer(filters=\"\")\n",
    "    whole_texts = []\n",
    "    for line in lines:\n",
    "        whole_texts.append(\"<s> \" + line.strip() + \" </s>\")\n",
    "        \n",
    "    tokenizer.fit_on_texts(whole_texts)\n",
    "    \n",
    "    return tokenizer.texts_to_sequences(whole_texts), tokenizer"
   ]
  },
  {
   "cell_type": "code",
   "execution_count": 130,
   "metadata": {
    "colab": {
     "autoexec": {
      "startup": false,
      "wait_interval": 0
     }
    },
    "colab_type": "code",
    "collapsed": true,
    "id": "20XgOEUOZT_n"
   },
   "outputs": [],
   "source": [
    "#path_input = './Data/100/input/'\n",
    "path_input = '/root/userspace/private/FinalExam/Data/040/input/'"
   ]
  },
  {
   "cell_type": "code",
   "execution_count": 131,
   "metadata": {
    "colab": {
     "autoexec": {
      "startup": false,
      "wait_interval": 0
     },
     "base_uri": "https://localhost:8080/",
     "height": 232,
     "output_extras": [
      {
       "item_id": 1
      }
     ]
    },
    "colab_type": "code",
    "executionInfo": {
     "elapsed": 769,
     "status": "error",
     "timestamp": 1521649938728,
     "user": {
      "displayName": "Yoshihiro Shimizu",
      "photoUrl": "https://lh3.googleusercontent.com/a/default-user=s128",
      "userId": "112564627578028744662"
     },
     "user_tz": -540
    },
    "id": "C2clIKwPZT_p",
    "outputId": "dbce30c8-2e4b-417b-aa82-a3e8d8a37ab2"
   },
   "outputs": [
    {
     "name": "stdout",
     "output_type": "stream",
     "text": [
      "01/03: corpus_01.csv\n",
      "Loading corpus data\n",
      "\n",
      "\n",
      "<class 'pandas.core.frame.DataFrame'>\n",
      "RangeIndex: 15767 entries, 0 to 15766\n",
      "Data columns (total 5 columns):\n",
      "id_doc       15767 non-null object\n",
      "id_claim     15767 non-null int64\n",
      "claim_JP     15767 non-null object\n",
      "claim_EP     15767 non-null object\n",
      "length_EP    15767 non-null int64\n",
      "dtypes: int64(2), object(3)\n",
      "memory usage: 616.0+ KB\n",
      "None\n",
      "\n",
      "\n",
      "Concatenating data frame\n",
      "Concatenating data frame is finished\n",
      "\n",
      "02/03: wvec\n",
      "Directory wvec\n",
      "\n",
      "03/03: corpus_02.csv\n",
      "Loading corpus data\n",
      "\n",
      "\n",
      "<class 'pandas.core.frame.DataFrame'>\n",
      "RangeIndex: 10514 entries, 0 to 10513\n",
      "Data columns (total 5 columns):\n",
      "id_doc       10514 non-null object\n",
      "id_claim     10514 non-null int64\n",
      "claim_JP     10514 non-null object\n",
      "claim_EP     10514 non-null object\n",
      "length_EP    10514 non-null int64\n",
      "dtypes: int64(2), object(3)\n",
      "memory usage: 410.8+ KB\n",
      "None\n",
      "\n",
      "\n",
      "Concatenating data frame\n",
      "Concatenating data frame is finished\n",
      "\n"
     ]
    }
   ],
   "source": [
    "files = os.listdir(path_input)\n",
    "\n",
    "df = pd.DataFrame()\n",
    "\n",
    "for i, file in enumerate(files):\n",
    "    print('{0:02d}/{1:02d}: {2}'.format(i+1, len(files), file))\n",
    "    \n",
    "    if re.match('\\..*', file):\n",
    "        print('Incorrect file: {0}\\n'.format(file))\n",
    "        continue\n",
    "    elif os.path.isdir(path_input + file):\n",
    "        print('Directory {0}\\n'.format(file))\n",
    "        continue\n",
    "    \n",
    "    print('Loading corpus data')\n",
    "    df_claims = pd.read_csv(path_input + file)\n",
    "    \n",
    "    print('\\n')\n",
    "    print(df_claims.info())\n",
    "    print('\\n')\n",
    "    \n",
    "    print('Concatenating data frame')\n",
    "    df = pd.concat([df, df_claims])\n",
    "    print('Concatenating data frame is finished\\n')"
   ]
  },
  {
   "cell_type": "code",
   "execution_count": 132,
   "metadata": {},
   "outputs": [
    {
     "name": "stdout",
     "output_type": "stream",
     "text": [
      "<class 'pandas.core.frame.DataFrame'>\n",
      "Int64Index: 26281 entries, 0 to 10513\n",
      "Data columns (total 5 columns):\n",
      "id_doc       26281 non-null object\n",
      "id_claim     26281 non-null int64\n",
      "claim_JP     26281 non-null object\n",
      "claim_EP     26281 non-null object\n",
      "length_EP    26281 non-null int64\n",
      "dtypes: int64(2), object(3)\n",
      "memory usage: 1.2+ MB\n"
     ]
    }
   ],
   "source": [
    "df.info()"
   ]
  },
  {
   "cell_type": "code",
   "execution_count": 133,
   "metadata": {
    "colab": {
     "autoexec": {
      "startup": false,
      "wait_interval": 0
     }
    },
    "colab_type": "code",
    "collapsed": true,
    "id": "2TWmbvkXZT_v"
   },
   "outputs": [],
   "source": [
    "df['length_JP'] = df['claim_JP'].map(len)\n",
    "# df['length_EP'] = df['claim_EP'].map(len)"
   ]
  },
  {
   "cell_type": "code",
   "execution_count": 134,
   "metadata": {},
   "outputs": [
    {
     "data": {
      "text/plain": [
       "count    26281.000000\n",
       "mean       105.197633\n",
       "std         37.116396\n",
       "min         19.000000\n",
       "25%         76.000000\n",
       "50%        101.000000\n",
       "75%        130.000000\n",
       "max        325.000000\n",
       "Name: length_JP, dtype: float64"
      ]
     },
     "execution_count": 134,
     "metadata": {},
     "output_type": "execute_result"
    }
   ],
   "source": [
    "df['length_JP'].describe()"
   ]
  },
  {
   "cell_type": "code",
   "execution_count": 135,
   "metadata": {},
   "outputs": [
    {
     "data": {
      "text/plain": [
       "count    26281.000000\n",
       "mean       190.128762\n",
       "std         69.140710\n",
       "min         37.000000\n",
       "25%        134.000000\n",
       "50%        182.000000\n",
       "75%        241.000000\n",
       "max        351.000000\n",
       "Name: length_EP, dtype: float64"
      ]
     },
     "execution_count": 135,
     "metadata": {},
     "output_type": "execute_result"
    }
   ],
   "source": [
    "df['length_EP'].describe()"
   ]
  },
  {
   "cell_type": "code",
   "execution_count": 136,
   "metadata": {
    "collapsed": true
   },
   "outputs": [],
   "source": [
    "df = df[df['length_EP'] < df['length_EP'].describe()['75%']]"
   ]
  },
  {
   "cell_type": "code",
   "execution_count": 137,
   "metadata": {
    "colab": {
     "autoexec": {
      "startup": false,
      "wait_interval": 0
     }
    },
    "colab_type": "code",
    "collapsed": true,
    "id": "pD1jmfoTZT_x"
   },
   "outputs": [],
   "source": [
    "df = df[df['length_JP'] < df['length_JP'].describe()['75%']]"
   ]
  },
  {
   "cell_type": "code",
   "execution_count": 138,
   "metadata": {},
   "outputs": [
    {
     "name": "stdout",
     "output_type": "stream",
     "text": [
      "<class 'pandas.core.frame.DataFrame'>\n",
      "Int64Index: 14631 entries, 0 to 10513\n",
      "Data columns (total 6 columns):\n",
      "id_doc       14631 non-null object\n",
      "id_claim     14631 non-null int64\n",
      "claim_JP     14631 non-null object\n",
      "claim_EP     14631 non-null object\n",
      "length_EP    14631 non-null int64\n",
      "length_JP    14631 non-null int64\n",
      "dtypes: int64(3), object(3)\n",
      "memory usage: 800.1+ KB\n"
     ]
    }
   ],
   "source": [
    "df.info()"
   ]
  },
  {
   "cell_type": "code",
   "execution_count": 139,
   "metadata": {},
   "outputs": [
    {
     "data": {
      "text/plain": [
       "count    14631.000000\n",
       "mean        78.079694\n",
       "std         18.011410\n",
       "min         19.000000\n",
       "25%         65.000000\n",
       "50%         79.000000\n",
       "75%         93.000000\n",
       "max        107.000000\n",
       "Name: length_JP, dtype: float64"
      ]
     },
     "execution_count": 139,
     "metadata": {},
     "output_type": "execute_result"
    }
   ],
   "source": [
    "df['length_JP'].describe()"
   ]
  },
  {
   "cell_type": "code",
   "execution_count": 140,
   "metadata": {},
   "outputs": [
    {
     "data": {
      "text/plain": [
       "count    14631.000000\n",
       "mean       141.673775\n",
       "std         38.282663\n",
       "min         37.000000\n",
       "25%        113.000000\n",
       "50%        140.000000\n",
       "75%        169.000000\n",
       "max        240.000000\n",
       "Name: length_EP, dtype: float64"
      ]
     },
     "execution_count": 140,
     "metadata": {},
     "output_type": "execute_result"
    }
   ],
   "source": [
    "df['length_EP'].describe()"
   ]
  },
  {
   "cell_type": "code",
   "execution_count": 141,
   "metadata": {
    "colab": {
     "autoexec": {
      "startup": false,
      "wait_interval": 0
     }
    },
    "colab_type": "code",
    "collapsed": true,
    "id": "8G5h1NbcZT_4"
   },
   "outputs": [],
   "source": [
    "df_columns = {'EN': 'claim_EP', 'JP': 'claim_JP'}"
   ]
  },
  {
   "cell_type": "code",
   "execution_count": 142,
   "metadata": {
    "colab": {
     "autoexec": {
      "startup": false,
      "wait_interval": 0
     },
     "output_extras": [
      {}
     ]
    },
    "colab_type": "code",
    "id": "NlfYUUxOZT_7",
    "outputId": "d183a714-1aee-4712-e8f1-a8f9b7afef67"
   },
   "outputs": [
    {
     "name": "stdout",
     "output_type": "stream",
     "text": [
      "EN vocab size: 7434\n",
      "JP vocab size: 6171\n"
     ]
    }
   ],
   "source": [
    "for language in languages:\n",
    "    data_train[language], tokenizer[language] = tokenize(df[df_columns[language]].tolist())\n",
    "    dim_vocab[language] = len(tokenizer[language].word_index) + 1\n",
    "    print('{0} vocab size: {1}'.format(language, dim_vocab[language]))"
   ]
  },
  {
   "cell_type": "code",
   "execution_count": 143,
   "metadata": {
    "colab": {
     "autoexec": {
      "startup": false,
      "wait_interval": 0
     }
    },
    "colab_type": "code",
    "collapsed": true,
    "id": "qPMiliTbZT__"
   },
   "outputs": [],
   "source": [
    "data_train['EN'], data_validation['EN'], data_train['JP'], data_validation['JP'] = train_test_split(\n",
    "                                                                                       data_train['EN'],\n",
    "                                                                                       data_train['JP'],\n",
    "                                                                                       test_size=0.01,\n",
    "                                                                                       random_state=42\n",
    "                                                                                   )"
   ]
  },
  {
   "cell_type": "code",
   "execution_count": 144,
   "metadata": {
    "colab": {
     "autoexec": {
      "startup": false,
      "wait_interval": 0
     },
     "output_extras": [
      {}
     ]
    },
    "colab_type": "code",
    "id": "UyWpvsUuZUAA",
    "outputId": "282bc116-4333-47ae-a206-44f771045a41"
   },
   "outputs": [
    {
     "name": "stdout",
     "output_type": "stream",
     "text": [
      "Dim EN sequence: 55\n",
      "Dim JP sequence: 50\n"
     ]
    }
   ],
   "source": [
    "for language in languages:\n",
    "    data_train[language] = pad_sequences(data_train[language], padding='post')\n",
    "    dim_seq[language] = len(data_train[language][0])\n",
    "    print('Dim {0} sequence: {1}'.format(language, dim_seq[language]))"
   ]
  },
  {
   "cell_type": "code",
   "execution_count": 145,
   "metadata": {
    "colab": {
     "autoexec": {
      "startup": false,
      "wait_interval": 0
     }
    },
    "colab_type": "code",
    "collapsed": true,
    "id": "1nMjrwxXZUAD"
   },
   "outputs": [],
   "source": [
    "# Creating embedding matrix"
   ]
  },
  {
   "cell_type": "code",
   "execution_count": 146,
   "metadata": {
    "colab": {
     "autoexec": {
      "startup": false,
      "wait_interval": 0
     }
    },
    "colab_type": "code",
    "collapsed": true,
    "id": "HmWnK4i3ZUAF"
   },
   "outputs": [],
   "source": [
    "#path_input_wvec = {'EN': 'Data/100/input/wvec/EN/',\n",
    "#                   'JP': 'Data/100/input/wvec/JP/'}\n",
    "path_input_wvec = {'EN': '/root/userspace/private/FinalExam/Data/040/input/wvec/EN/',\n",
    "                   'JP': '/root/userspace/private/FinalExam/Data/040/input/wvec/JP/'}"
   ]
  },
  {
   "cell_type": "code",
   "execution_count": 147,
   "metadata": {
    "colab": {
     "autoexec": {
      "startup": false,
      "wait_interval": 0
     },
     "output_extras": [
      {}
     ]
    },
    "colab_type": "code",
    "id": "YSzj-TvgZUAI",
    "outputId": "0166cd1b-f9d5-47cc-bcf4-2f946dadaf3b"
   },
   "outputs": [
    {
     "name": "stdout",
     "output_type": "stream",
     "text": [
      "Extracting EN emb vectors\n",
      "Extracting JP emb vectors\n"
     ]
    }
   ],
   "source": [
    "for language in languages:\n",
    "    print('Extracting {0} emb vectors'.format(language))\n",
    "    \n",
    "    emb_matrix[language] = np.zeros(shape=(dim_vocab[language], dim_emb[language]), dtype=np.float32)\n",
    "    \n",
    "    files = os.listdir(path_input_wvec[language])\n",
    "    for file in files:\n",
    "        fin = codecs.open(path_input_wvec[language]+file, 'r', 'utf-8')\n",
    "        for line in fin:\n",
    "            tokens = line.rstrip().split(' ')\n",
    "            if tokens[0] in tokenizer[language].word_index.keys():\n",
    "                emb_matrix[language][tokenizer[language].word_index[tokens[0]]] = tokens[1:]"
   ]
  },
  {
   "cell_type": "code",
   "execution_count": 148,
   "metadata": {
    "colab": {
     "autoexec": {
      "startup": false,
      "wait_interval": 0
     }
    },
    "colab_type": "code",
    "collapsed": true,
    "id": "9O6FZ0t6ZUAK"
   },
   "outputs": [],
   "source": [
    "vector_bos = np.zeros(shape=(dim_emb[language]), dtype=np.float32)\n",
    "vector_bos[0] = 1.0 \n",
    "vector_eos = np.zeros(shape=(dim_emb[language]), dtype=np.float32)\n",
    "vector_eos[dim_emb[language]-1] = 1.0 \n",
    "\n",
    "for language in languages:\n",
    "    emb_matrix[language][tokenizer[language].word_index['<s>']] = vector_bos\n",
    "    emb_matrix[language][tokenizer[language].word_index['</s>']] = vector_eos"
   ]
  },
  {
   "cell_type": "code",
   "execution_count": 149,
   "metadata": {},
   "outputs": [
    {
     "name": "stdout",
     "output_type": "stream",
     "text": [
      "7\n",
      "8\n"
     ]
    }
   ],
   "source": [
    "print(tokenizer['JP'].word_index['<s>'])\n",
    "print(tokenizer['JP'].word_index['</s>'])"
   ]
  },
  {
   "cell_type": "code",
   "execution_count": 150,
   "metadata": {
    "colab": {
     "autoexec": {
      "startup": false,
      "wait_interval": 0
     }
    },
    "colab_type": "code",
    "collapsed": true,
    "id": "l_nohXNTZUAN"
   },
   "outputs": [],
   "source": [
    "# Building a model"
   ]
  },
  {
   "cell_type": "code",
   "execution_count": 151,
   "metadata": {
    "collapsed": true
   },
   "outputs": [],
   "source": [
    "from keras.models import Model\n",
    "from keras import backend as K"
   ]
  },
  {
   "cell_type": "code",
   "execution_count": 152,
   "metadata": {
    "collapsed": true
   },
   "outputs": [],
   "source": [
    "K.clear_session()"
   ]
  },
  {
   "cell_type": "code",
   "execution_count": 153,
   "metadata": {
    "collapsed": true
   },
   "outputs": [],
   "source": [
    "def show_graph(model):\n",
    "    return model_to_dot(model).create(prog='dot', format='svg')"
   ]
  },
  {
   "cell_type": "code",
   "execution_count": 154,
   "metadata": {
    "colab": {
     "autoexec": {
      "startup": false,
      "wait_interval": 0
     }
    },
    "colab_type": "code",
    "collapsed": true,
    "id": "O6-Nl2HLZUAS"
   },
   "outputs": [],
   "source": [
    "class Generator(object):\n",
    "    def __init__(self,\n",
    "                 dim_input_seq,\n",
    "                 dim_input_vocab,\n",
    "                 dim_output_seq,\n",
    "                 dim_output_vocab,\n",
    "                 dim_emb,\n",
    "                 dim_hid, \n",
    "                 dim_att,\n",
    "                 emb_matrix_input,\n",
    "                 emb_matrix_output):\n",
    "\n",
    "        self.dim_input_seq = dim_input_seq\n",
    "        self.dim_input_vocab = dim_input_vocab\n",
    "        \n",
    "        self.dim_output_seq = dim_output_seq\n",
    "        self.dim_output_vocab = dim_output_vocab\n",
    "        \n",
    "        self.dim_emb = dim_emb\n",
    "        self.dim_hid = dim_hid\n",
    "        self.dim_att = dim_att\n",
    "        \n",
    "        self.emb_matrix_input = emb_matrix_input\n",
    "        self.emb_matrix_output = emb_matrix_output\n",
    "        \n",
    "        # Model\n",
    "        self.model = None\n",
    "                \n",
    "        # Encoder \n",
    "        self._num_encoder_bidirectional_layers = 2\n",
    "        \n",
    "        ## Layer\n",
    "        self._encoder_inputs = None\n",
    "        \n",
    "        ## Tensor\n",
    "        self._encoded_seq = None\n",
    "        self._encoder_states = []\n",
    "        \n",
    "        # Decoder\n",
    "        self._num_decoder_RNN_layers = 2\n",
    "        \n",
    "        ## Layer\n",
    "        self._decoder_embedding = None\n",
    "        self._decoder_lstm = []\n",
    "        self._decoder_dense = None\n",
    "\n",
    "        # Attension\n",
    "        ## Layer\n",
    "        self._attention_score_dense = None\n",
    "        self._attention_dense = None\n",
    "        \n",
    "        # Output\n",
    "        ## Layer\n",
    "        self._output_dense = None\n",
    "        \n",
    "    def inference(self):\n",
    "        from keras.layers import Input, Embedding, LSTM, Dense, Activation\n",
    "        from keras.layers import concatenate, add, dot\n",
    "        from keras.layers import Lambda\n",
    "        \n",
    "        # Encoder\n",
    "        ## Input Layer\n",
    "        self._encoder_inputs = Input(shape=(self.dim_input_seq,))\n",
    "        \n",
    "        ## Embedding Layer\n",
    "        seq_embedded = Embedding(self.dim_input_vocab,\n",
    "                                 self.dim_emb,\n",
    "                                 weights=[self.emb_matrix_input],\n",
    "                                 mask_zero=True,\n",
    "                                 trainable=False)(self._encoder_inputs) # (dim_seq_input,)->(dim_seq_input, dim_emb)\n",
    "        \n",
    "        encoded_seq_fwd = Lambda(lambda x: x)(seq_embedded)\n",
    "        encoded_seq_bwd = Lambda(lambda x: x)(seq_embedded)\n",
    "       \n",
    "        ## LSTM Layer\n",
    "        for i in range(self._num_encoder_bidirectional_layers):\n",
    "            # (dim_input_seq, dim_emb)->(dim_input_seq, dim_hid)\n",
    "            encoded_seq_fwd, *encoder_states_fwd = LSTM(self.dim_hid, return_sequences=True, return_state=True)(encoded_seq_fwd)\n",
    "            encoded_seq_bwd, *encoder_states_bwd = LSTM(self.dim_hid, return_sequences=True, return_state=True, go_backwards=True)(encoded_seq_bwd)\n",
    "            \n",
    "            self._encoder_states.append([add([encoder_states_fwd[j], encoder_states_bwd[j]]) for j in range(len(encoder_states_fwd))])\n",
    "            \n",
    "        self._encoded_seq = add([encoded_seq_fwd, encoded_seq_bwd])\n",
    "        \n",
    "        # Decoder\n",
    "        ## Instance\n",
    "        for i in range(self._num_decoder_RNN_layers):\n",
    "            self._decoder_lstm.append(LSTM(self.dim_hid, return_sequences=True, return_state=True))\n",
    "        \n",
    "        ## Input Layer\n",
    "        decoder_inputs = Input(shape=(self.dim_output_seq,))\n",
    "\n",
    "        ## Embedding Layer\n",
    "        ## (dim_output_seq,)->(dim_output_seq, dim_emb)\n",
    "        decoded_seq = Embedding(self.dim_output_vocab,\n",
    "                                self.dim_emb,\n",
    "                                weights=[self.emb_matrix_output],\n",
    "                                trainable=False)(decoder_inputs)\n",
    "        \n",
    "        ## LSTM Layer\n",
    "        for i in range(self._num_decoder_RNN_layers):\n",
    "            # (dim_output_seq, dim_emb)->(dim_output_seq, dim_hid)\n",
    "            decoded_seq, _, _ = self._decoder_lstm[i](decoded_seq, initial_state=self._encoder_states[i])\n",
    "        \n",
    "        # Attention\n",
    "        ## Instance\n",
    "        self._attention_score_dense = Dense(self.dim_hid)\n",
    "        self._attention_dense = Dense(self.dim_att, activation='tanh')\n",
    "        \n",
    "        ## Attention\n",
    "        ## (dim_output_seq, dim_hid) -> (dim_output_seq, dim_hid)\n",
    "        score = self._attention_score_dense(decoded_seq)\n",
    "        \n",
    "        ## [(dim_output_seq, dim_hid), (dim_input_seq, dim_hid)] -> (dim_output_seq, dim_input_seq)\n",
    "        score = dot([score, self._encoded_seq], axes=(2,2))\n",
    "        \n",
    "        ## (dim_output_seq, dim_input_seq) -> (dim_output_seq, dim_input_seq)\n",
    "        attention = Activation('softmax')(score)\n",
    "\n",
    "        ## Context\n",
    "        ## [(dim_output_seq, dim_seq_input), (dim_input_seq, dim_hid)] -> (dim_output_seq, dim_hid)\n",
    "        context = dot([attention, self._encoded_seq], axes=(2,1))\n",
    "        \n",
    "        # [(dim_output_seq, dim_hid), (dim_output_seq, dim_hid)] -> (dim_output_seq, 2*dim_hid)\n",
    "        concat = concatenate([context, decoded_seq], axis=2)\n",
    "        \n",
    "        # (dim_output_seq, 2*dim_hid) -> (dim_output_seq, dim_att)\n",
    "        attentional = self._attention_dense(concat)\n",
    "        \n",
    "        # Output Layer\n",
    "        ## Instance\n",
    "        self._output_dense = Dense(self.dim_output_vocab, activation='softmax')\n",
    "        \n",
    "        ## Output\n",
    "        ## (dim_output_seq, dim_att) -> (dim_output_seq, dim_output_vocab)\n",
    "        predictions = self._output_dense(attentional)\n",
    "        \n",
    "        return Model([self._encoder_inputs, decoder_inputs], predictions)\n",
    "    \n",
    "    def compile(self):\n",
    "        self.model = self.inference()\n",
    "        self.model.compile(loss='sparse_categorical_crossentropy',\n",
    "                           optimizer='rmsprop',\n",
    "                           metrics=['accuracy'])\n",
    "\n",
    "    def fit(self, X_train, Y_train, epochs, batch_size, verbose=1):\n",
    "        train_target = np.hstack((Y_train[:, 1:], np.zeros((len(Y_train),1), dtype=np.int32)))\n",
    "        \n",
    "        history = self.model.fit([X_train, Y_train],\n",
    "                                  np.expand_dims(train_target, -1),\n",
    "                                  batch_size=batch_size,\n",
    "                                  epochs=epochs,\n",
    "                                  verbose=verbose,\n",
    "                                  validation_split=0.1)\n",
    "        \n",
    "        return history.history"
   ]
  },
  {
   "cell_type": "code",
   "execution_count": 155,
   "metadata": {
    "collapsed": true
   },
   "outputs": [],
   "source": [
    "model_generator = Generator(dim_input_seq=dim_seq['EN'],\n",
    "                            dim_input_vocab=dim_vocab['EN'],\n",
    "                            dim_output_seq=dim_seq['JP'],\n",
    "                            dim_output_vocab=dim_vocab['JP'],\n",
    "                            dim_emb=dim_emb['EN'],\n",
    "                            dim_hid=256,\n",
    "                            dim_att=256,\n",
    "                            emb_matrix_input=emb_matrix['EN'],\n",
    "                            emb_matrix_output=emb_matrix['JP'])"
   ]
  },
  {
   "cell_type": "code",
   "execution_count": 156,
   "metadata": {
    "collapsed": true
   },
   "outputs": [],
   "source": [
    "model_generator.compile()"
   ]
  },
  {
   "cell_type": "code",
   "execution_count": 157,
   "metadata": {},
   "outputs": [
    {
     "data": {
      "image/svg+xml": [
       "<svg height=\"994pt\" viewBox=\"0.00 0.00 708.50 994.00\" width=\"709pt\" xmlns=\"http://www.w3.org/2000/svg\" xmlns:xlink=\"http://www.w3.org/1999/xlink\">\n",
       "<g class=\"graph\" id=\"graph0\" transform=\"scale(1 1) rotate(0) translate(4 990)\">\n",
       "<title>G</title>\n",
       "<polygon fill=\"white\" points=\"-4,4 -4,-990 704.5,-990 704.5,4 -4,4\" stroke=\"none\"/>\n",
       "<!-- 140131145212368 -->\n",
       "<g class=\"node\" id=\"node1\"><title>140131145212368</title>\n",
       "<polygon fill=\"none\" points=\"322.5,-949.5 322.5,-985.5 482.5,-985.5 482.5,-949.5 322.5,-949.5\" stroke=\"black\"/>\n",
       "<text font-family=\"Times,serif\" font-size=\"14.00\" text-anchor=\"middle\" x=\"402.5\" y=\"-963.8\">input_1: InputLayer</text>\n",
       "</g>\n",
       "<!-- 140131145212144 -->\n",
       "<g class=\"node\" id=\"node2\"><title>140131145212144</title>\n",
       "<polygon fill=\"none\" points=\"301,-876.5 301,-912.5 504,-912.5 504,-876.5 301,-876.5\" stroke=\"black\"/>\n",
       "<text font-family=\"Times,serif\" font-size=\"14.00\" text-anchor=\"middle\" x=\"402.5\" y=\"-890.8\">embedding_1: Embedding</text>\n",
       "</g>\n",
       "<!-- 140131145212368&#45;&gt;140131145212144 -->\n",
       "<g class=\"edge\" id=\"edge1\"><title>140131145212368-&gt;140131145212144</title>\n",
       "<path d=\"M402.5,-949.313C402.5,-941.289 402.5,-931.547 402.5,-922.569\" fill=\"none\" stroke=\"black\"/>\n",
       "<polygon fill=\"black\" points=\"406,-922.529 402.5,-912.529 399,-922.529 406,-922.529\" stroke=\"black\"/>\n",
       "</g>\n",
       "<!-- 140131145211976 -->\n",
       "<g class=\"node\" id=\"node3\"><title>140131145211976</title>\n",
       "<polygon fill=\"none\" points=\"241.5,-803.5 241.5,-839.5 393.5,-839.5 393.5,-803.5 241.5,-803.5\" stroke=\"black\"/>\n",
       "<text font-family=\"Times,serif\" font-size=\"14.00\" text-anchor=\"middle\" x=\"317.5\" y=\"-817.8\">lambda_1: Lambda</text>\n",
       "</g>\n",
       "<!-- 140131145212144&#45;&gt;140131145211976 -->\n",
       "<g class=\"edge\" id=\"edge2\"><title>140131145212144-&gt;140131145211976</title>\n",
       "<path d=\"M381.924,-876.313C371.066,-867.243 357.578,-855.977 345.754,-846.1\" fill=\"none\" stroke=\"black\"/>\n",
       "<polygon fill=\"black\" points=\"347.805,-843.253 337.887,-839.529 343.318,-848.626 347.805,-843.253\" stroke=\"black\"/>\n",
       "</g>\n",
       "<!-- 140131145213712 -->\n",
       "<g class=\"node\" id=\"node4\"><title>140131145213712</title>\n",
       "<polygon fill=\"none\" points=\"411.5,-803.5 411.5,-839.5 563.5,-839.5 563.5,-803.5 411.5,-803.5\" stroke=\"black\"/>\n",
       "<text font-family=\"Times,serif\" font-size=\"14.00\" text-anchor=\"middle\" x=\"487.5\" y=\"-817.8\">lambda_2: Lambda</text>\n",
       "</g>\n",
       "<!-- 140131145212144&#45;&gt;140131145213712 -->\n",
       "<g class=\"edge\" id=\"edge3\"><title>140131145212144-&gt;140131145213712</title>\n",
       "<path d=\"M423.076,-876.313C433.934,-867.243 447.422,-855.977 459.246,-846.1\" fill=\"none\" stroke=\"black\"/>\n",
       "<polygon fill=\"black\" points=\"461.682,-848.626 467.113,-839.529 457.195,-843.253 461.682,-848.626\" stroke=\"black\"/>\n",
       "</g>\n",
       "<!-- 140131145212592 -->\n",
       "<g class=\"node\" id=\"node6\"><title>140131145212592</title>\n",
       "<polygon fill=\"none\" points=\"268.5,-730.5 268.5,-766.5 384.5,-766.5 384.5,-730.5 268.5,-730.5\" stroke=\"black\"/>\n",
       "<text font-family=\"Times,serif\" font-size=\"14.00\" text-anchor=\"middle\" x=\"326.5\" y=\"-744.8\">lstm_1: LSTM</text>\n",
       "</g>\n",
       "<!-- 140131145211976&#45;&gt;140131145212592 -->\n",
       "<g class=\"edge\" id=\"edge4\"><title>140131145211976-&gt;140131145212592</title>\n",
       "<path d=\"M319.679,-803.313C320.696,-795.289 321.931,-785.547 323.069,-776.569\" fill=\"none\" stroke=\"black\"/>\n",
       "<polygon fill=\"black\" points=\"326.556,-776.89 324.341,-766.529 319.612,-776.009 326.556,-776.89\" stroke=\"black\"/>\n",
       "</g>\n",
       "<!-- 140129096122944 -->\n",
       "<g class=\"node\" id=\"node7\"><title>140129096122944</title>\n",
       "<polygon fill=\"none\" points=\"420.5,-730.5 420.5,-766.5 536.5,-766.5 536.5,-730.5 420.5,-730.5\" stroke=\"black\"/>\n",
       "<text font-family=\"Times,serif\" font-size=\"14.00\" text-anchor=\"middle\" x=\"478.5\" y=\"-744.8\">lstm_2: LSTM</text>\n",
       "</g>\n",
       "<!-- 140131145213712&#45;&gt;140129096122944 -->\n",
       "<g class=\"edge\" id=\"edge5\"><title>140131145213712-&gt;140129096122944</title>\n",
       "<path d=\"M485.321,-803.313C484.304,-795.289 483.069,-785.547 481.931,-776.569\" fill=\"none\" stroke=\"black\"/>\n",
       "<polygon fill=\"black\" points=\"485.388,-776.009 480.659,-766.529 478.444,-776.89 485.388,-776.009\" stroke=\"black\"/>\n",
       "</g>\n",
       "<!-- 140128675451120 -->\n",
       "<g class=\"node\" id=\"node5\"><title>140128675451120</title>\n",
       "<polygon fill=\"none\" points=\"21.5,-730.5 21.5,-766.5 181.5,-766.5 181.5,-730.5 21.5,-730.5\" stroke=\"black\"/>\n",
       "<text font-family=\"Times,serif\" font-size=\"14.00\" text-anchor=\"middle\" x=\"101.5\" y=\"-744.8\">input_2: InputLayer</text>\n",
       "</g>\n",
       "<!-- 140128675451680 -->\n",
       "<g class=\"node\" id=\"node8\"><title>140128675451680</title>\n",
       "<polygon fill=\"none\" points=\"0,-657.5 0,-693.5 203,-693.5 203,-657.5 0,-657.5\" stroke=\"black\"/>\n",
       "<text font-family=\"Times,serif\" font-size=\"14.00\" text-anchor=\"middle\" x=\"101.5\" y=\"-671.8\">embedding_2: Embedding</text>\n",
       "</g>\n",
       "<!-- 140128675451120&#45;&gt;140128675451680 -->\n",
       "<g class=\"edge\" id=\"edge6\"><title>140128675451120-&gt;140128675451680</title>\n",
       "<path d=\"M101.5,-730.313C101.5,-722.289 101.5,-712.547 101.5,-703.569\" fill=\"none\" stroke=\"black\"/>\n",
       "<polygon fill=\"black\" points=\"105,-703.529 101.5,-693.529 98.0001,-703.529 105,-703.529\" stroke=\"black\"/>\n",
       "</g>\n",
       "<!-- 140128792674256 -->\n",
       "<g class=\"node\" id=\"node9\"><title>140128792674256</title>\n",
       "<polygon fill=\"none\" points=\"221,-657.5 221,-693.5 318,-693.5 318,-657.5 221,-657.5\" stroke=\"black\"/>\n",
       "<text font-family=\"Times,serif\" font-size=\"14.00\" text-anchor=\"middle\" x=\"269.5\" y=\"-671.8\">add_1: Add</text>\n",
       "</g>\n",
       "<!-- 140131145212592&#45;&gt;140128792674256 -->\n",
       "<g class=\"edge\" id=\"edge7\"><title>140131145212592-&gt;140128792674256</title>\n",
       "<path d=\"M312.702,-730.313C305.77,-721.679 297.241,-711.055 289.598,-701.534\" fill=\"none\" stroke=\"black\"/>\n",
       "<polygon fill=\"black\" points=\"292.161,-699.136 283.171,-693.529 286.702,-703.518 292.161,-699.136\" stroke=\"black\"/>\n",
       "</g>\n",
       "<!-- 140128792673920 -->\n",
       "<g class=\"node\" id=\"node10\"><title>140128792673920</title>\n",
       "<polygon fill=\"none\" points=\"336,-657.5 336,-693.5 433,-693.5 433,-657.5 336,-657.5\" stroke=\"black\"/>\n",
       "<text font-family=\"Times,serif\" font-size=\"14.00\" text-anchor=\"middle\" x=\"384.5\" y=\"-671.8\">add_2: Add</text>\n",
       "</g>\n",
       "<!-- 140131145212592&#45;&gt;140128792673920 -->\n",
       "<g class=\"edge\" id=\"edge9\"><title>140131145212592-&gt;140128792673920</title>\n",
       "<path d=\"M340.54,-730.313C347.593,-721.679 356.272,-711.055 364.05,-701.534\" fill=\"none\" stroke=\"black\"/>\n",
       "<polygon fill=\"black\" points=\"366.973,-703.488 370.589,-693.529 361.552,-699.059 366.973,-703.488\" stroke=\"black\"/>\n",
       "</g>\n",
       "<!-- 140128787936760 -->\n",
       "<g class=\"node\" id=\"node11\"><title>140128787936760</title>\n",
       "<polygon fill=\"none\" points=\"450.5,-657.5 450.5,-693.5 566.5,-693.5 566.5,-657.5 450.5,-657.5\" stroke=\"black\"/>\n",
       "<text font-family=\"Times,serif\" font-size=\"14.00\" text-anchor=\"middle\" x=\"508.5\" y=\"-671.8\">lstm_3: LSTM</text>\n",
       "</g>\n",
       "<!-- 140131145212592&#45;&gt;140128787936760 -->\n",
       "<g class=\"edge\" id=\"edge11\"><title>140131145212592-&gt;140128787936760</title>\n",
       "<path d=\"M370.094,-730.494C395.681,-720.512 428.206,-707.824 455.296,-697.255\" fill=\"none\" stroke=\"black\"/>\n",
       "<polygon fill=\"black\" points=\"456.587,-700.509 464.631,-693.614 454.043,-693.987 456.587,-700.509\" stroke=\"black\"/>\n",
       "</g>\n",
       "<!-- 140129096122944&#45;&gt;140128792674256 -->\n",
       "<g class=\"edge\" id=\"edge8\"><title>140129096122944-&gt;140128792674256</title>\n",
       "<path d=\"M428.439,-730.494C398.124,-720.195 359.328,-707.016 327.655,-696.256\" fill=\"none\" stroke=\"black\"/>\n",
       "<polygon fill=\"black\" points=\"328.666,-692.903 318.072,-693 326.415,-699.531 328.666,-692.903\" stroke=\"black\"/>\n",
       "</g>\n",
       "<!-- 140129096122944&#45;&gt;140128792673920 -->\n",
       "<g class=\"edge\" id=\"edge10\"><title>140129096122944-&gt;140128792673920</title>\n",
       "<path d=\"M455.745,-730.313C443.622,-721.156 428.534,-709.76 415.369,-699.816\" fill=\"none\" stroke=\"black\"/>\n",
       "<polygon fill=\"black\" points=\"417.134,-696.763 407.045,-693.529 412.915,-702.349 417.134,-696.763\" stroke=\"black\"/>\n",
       "</g>\n",
       "<!-- 140128792445336 -->\n",
       "<g class=\"node\" id=\"node12\"><title>140128792445336</title>\n",
       "<polygon fill=\"none\" points=\"584.5,-657.5 584.5,-693.5 700.5,-693.5 700.5,-657.5 584.5,-657.5\" stroke=\"black\"/>\n",
       "<text font-family=\"Times,serif\" font-size=\"14.00\" text-anchor=\"middle\" x=\"642.5\" y=\"-671.8\">lstm_4: LSTM</text>\n",
       "</g>\n",
       "<!-- 140129096122944&#45;&gt;140128792445336 -->\n",
       "<g class=\"edge\" id=\"edge12\"><title>140129096122944-&gt;140128792445336</title>\n",
       "<path d=\"M517.782,-730.494C540.537,-720.643 569.38,-708.156 593.596,-697.672\" fill=\"none\" stroke=\"black\"/>\n",
       "<polygon fill=\"black\" points=\"595.184,-700.798 602.97,-693.614 592.403,-694.375 595.184,-700.798\" stroke=\"black\"/>\n",
       "</g>\n",
       "<!-- 140128676601416 -->\n",
       "<g class=\"node\" id=\"node13\"><title>140128676601416</title>\n",
       "<polygon fill=\"none\" points=\"240.5,-584.5 240.5,-620.5 356.5,-620.5 356.5,-584.5 240.5,-584.5\" stroke=\"black\"/>\n",
       "<text font-family=\"Times,serif\" font-size=\"14.00\" text-anchor=\"middle\" x=\"298.5\" y=\"-598.8\">lstm_5: LSTM</text>\n",
       "</g>\n",
       "<!-- 140128675451680&#45;&gt;140128676601416 -->\n",
       "<g class=\"edge\" id=\"edge13\"><title>140128675451680-&gt;140128676601416</title>\n",
       "<path d=\"M148.686,-657.494C176.503,-647.468 211.896,-634.713 241.295,-624.117\" fill=\"none\" stroke=\"black\"/>\n",
       "<polygon fill=\"black\" points=\"242.795,-627.297 251.016,-620.614 240.421,-620.712 242.795,-627.297\" stroke=\"black\"/>\n",
       "</g>\n",
       "<!-- 140128792674256&#45;&gt;140128676601416 -->\n",
       "<g class=\"edge\" id=\"edge14\"><title>140128792674256-&gt;140128676601416</title>\n",
       "<path d=\"M276.52,-657.313C279.868,-649.115 283.95,-639.123 287.682,-629.985\" fill=\"none\" stroke=\"black\"/>\n",
       "<polygon fill=\"black\" points=\"291.003,-631.11 291.545,-620.529 284.523,-628.463 291.003,-631.11\" stroke=\"black\"/>\n",
       "</g>\n",
       "<!-- 140128792673920&#45;&gt;140128676601416 -->\n",
       "<g class=\"edge\" id=\"edge15\"><title>140128792673920-&gt;140128676601416</title>\n",
       "<path d=\"M363.682,-657.313C352.696,-648.243 339.049,-636.977 327.086,-627.1\" fill=\"none\" stroke=\"black\"/>\n",
       "<polygon fill=\"black\" points=\"329.066,-624.196 319.126,-620.529 324.61,-629.594 329.066,-624.196\" stroke=\"black\"/>\n",
       "</g>\n",
       "<!-- 140128745072288 -->\n",
       "<g class=\"node\" id=\"node14\"><title>140128745072288</title>\n",
       "<polygon fill=\"none\" points=\"402,-584.5 402,-620.5 499,-620.5 499,-584.5 402,-584.5\" stroke=\"black\"/>\n",
       "<text font-family=\"Times,serif\" font-size=\"14.00\" text-anchor=\"middle\" x=\"450.5\" y=\"-598.8\">add_3: Add</text>\n",
       "</g>\n",
       "<!-- 140128787936760&#45;&gt;140128745072288 -->\n",
       "<g class=\"edge\" id=\"edge16\"><title>140128787936760-&gt;140128745072288</title>\n",
       "<path d=\"M494.46,-657.313C487.407,-648.679 478.728,-638.055 470.95,-628.534\" fill=\"none\" stroke=\"black\"/>\n",
       "<polygon fill=\"black\" points=\"473.448,-626.059 464.411,-620.529 468.027,-630.488 473.448,-626.059\" stroke=\"black\"/>\n",
       "</g>\n",
       "<!-- 140128745071448 -->\n",
       "<g class=\"node\" id=\"node15\"><title>140128745071448</title>\n",
       "<polygon fill=\"none\" points=\"517,-584.5 517,-620.5 614,-620.5 614,-584.5 517,-584.5\" stroke=\"black\"/>\n",
       "<text font-family=\"Times,serif\" font-size=\"14.00\" text-anchor=\"middle\" x=\"565.5\" y=\"-598.8\">add_4: Add</text>\n",
       "</g>\n",
       "<!-- 140128787936760&#45;&gt;140128745071448 -->\n",
       "<g class=\"edge\" id=\"edge18\"><title>140128787936760-&gt;140128745071448</title>\n",
       "<path d=\"M522.298,-657.313C529.23,-648.679 537.759,-638.055 545.402,-628.534\" fill=\"none\" stroke=\"black\"/>\n",
       "<polygon fill=\"black\" points=\"548.298,-630.518 551.829,-620.529 542.839,-626.136 548.298,-630.518\" stroke=\"black\"/>\n",
       "</g>\n",
       "<!-- 140128676510464 -->\n",
       "<g class=\"node\" id=\"node18\"><title>140128676510464</title>\n",
       "<polygon fill=\"none\" points=\"594,-511.5 594,-547.5 691,-547.5 691,-511.5 594,-511.5\" stroke=\"black\"/>\n",
       "<text font-family=\"Times,serif\" font-size=\"14.00\" text-anchor=\"middle\" x=\"642.5\" y=\"-525.8\">add_5: Add</text>\n",
       "</g>\n",
       "<!-- 140128787936760&#45;&gt;140128676510464 -->\n",
       "<g class=\"edge\" id=\"edge24\"><title>140128787936760-&gt;140128676510464</title>\n",
       "<path d=\"M555.071,-657.382C590.86,-642.972 635.36,-621.839 642.5,-603.5\" fill=\"none\" stroke=\"black\"/>\n",
       "<path d=\"M642.5,-601.5C647.829,-587.814 648.197,-571.488 647.068,-557.943\" fill=\"none\" stroke=\"black\"/>\n",
       "<polygon fill=\"black\" points=\"650.52,-557.32 645.908,-547.781 643.565,-558.114 650.52,-557.32\" stroke=\"black\"/>\n",
       "</g>\n",
       "<!-- 140128792445336&#45;&gt;140128745072288 -->\n",
       "<g class=\"edge\" id=\"edge17\"><title>140128792445336-&gt;140128745072288</title>\n",
       "<path d=\"M596.511,-657.494C569.4,-647.468 534.906,-634.713 506.253,-624.117\" fill=\"none\" stroke=\"black\"/>\n",
       "<polygon fill=\"black\" points=\"507.372,-620.799 496.779,-620.614 504.944,-627.365 507.372,-620.799\" stroke=\"black\"/>\n",
       "</g>\n",
       "<!-- 140128792445336&#45;&gt;140128745071448 -->\n",
       "<g class=\"edge\" id=\"edge19\"><title>140128792445336-&gt;140128745071448</title>\n",
       "<path d=\"M623.86,-657.313C614.119,-648.33 602.041,-637.193 591.404,-627.386\" fill=\"none\" stroke=\"black\"/>\n",
       "<polygon fill=\"black\" points=\"593.692,-624.735 583.968,-620.529 588.947,-629.881 593.692,-624.735\" stroke=\"black\"/>\n",
       "</g>\n",
       "<!-- 140128792445336&#45;&gt;140128676510464 -->\n",
       "<g class=\"edge\" id=\"edge25\"><title>140128792445336-&gt;140128676510464</title>\n",
       "<path d=\"M639.092,-657.219C636.96,-642.43 635.747,-620.845 642.5,-603.5\" fill=\"none\" stroke=\"black\"/>\n",
       "</g>\n",
       "<!-- 140128675884056 -->\n",
       "<g class=\"node\" id=\"node16\"><title>140128675884056</title>\n",
       "<polygon fill=\"none\" points=\"392.5,-511.5 392.5,-547.5 508.5,-547.5 508.5,-511.5 392.5,-511.5\" stroke=\"black\"/>\n",
       "<text font-family=\"Times,serif\" font-size=\"14.00\" text-anchor=\"middle\" x=\"450.5\" y=\"-525.8\">lstm_6: LSTM</text>\n",
       "</g>\n",
       "<!-- 140128676601416&#45;&gt;140128675884056 -->\n",
       "<g class=\"edge\" id=\"edge20\"><title>140128676601416-&gt;140128675884056</title>\n",
       "<path d=\"M334.908,-584.494C355.811,-574.73 382.258,-562.376 404.578,-551.951\" fill=\"none\" stroke=\"black\"/>\n",
       "<polygon fill=\"black\" points=\"406.283,-555.017 413.862,-547.614 403.321,-548.675 406.283,-555.017\" stroke=\"black\"/>\n",
       "</g>\n",
       "<!-- 140128745072288&#45;&gt;140128675884056 -->\n",
       "<g class=\"edge\" id=\"edge21\"><title>140128745072288-&gt;140128675884056</title>\n",
       "<path d=\"M450.5,-584.313C450.5,-576.289 450.5,-566.547 450.5,-557.569\" fill=\"none\" stroke=\"black\"/>\n",
       "<polygon fill=\"black\" points=\"454,-557.529 450.5,-547.529 447,-557.529 454,-557.529\" stroke=\"black\"/>\n",
       "</g>\n",
       "<!-- 140128745071448&#45;&gt;140128675884056 -->\n",
       "<g class=\"edge\" id=\"edge22\"><title>140128745071448-&gt;140128675884056</title>\n",
       "<path d=\"M537.955,-584.494C522.705,-575.079 503.555,-563.255 487.065,-553.075\" fill=\"none\" stroke=\"black\"/>\n",
       "<polygon fill=\"black\" points=\"488.567,-549.889 478.219,-547.614 484.889,-555.845 488.567,-549.889\" stroke=\"black\"/>\n",
       "</g>\n",
       "<!-- 140128674074920 -->\n",
       "<g class=\"node\" id=\"node17\"><title>140128674074920</title>\n",
       "<polygon fill=\"none\" points=\"501.5,-438.5 501.5,-474.5 629.5,-474.5 629.5,-438.5 501.5,-438.5\" stroke=\"black\"/>\n",
       "<text font-family=\"Times,serif\" font-size=\"14.00\" text-anchor=\"middle\" x=\"565.5\" y=\"-452.8\">dense_1: Dense</text>\n",
       "</g>\n",
       "<!-- 140128675884056&#45;&gt;140128674074920 -->\n",
       "<g class=\"edge\" id=\"edge23\"><title>140128675884056-&gt;140128674074920</title>\n",
       "<path d=\"M478.045,-511.494C493.295,-502.079 512.445,-490.255 528.935,-480.075\" fill=\"none\" stroke=\"black\"/>\n",
       "<polygon fill=\"black\" points=\"531.111,-482.845 537.781,-474.614 527.433,-476.889 531.111,-482.845\" stroke=\"black\"/>\n",
       "</g>\n",
       "<!-- 140128671504816 -->\n",
       "<g class=\"node\" id=\"node22\"><title>140128671504816</title>\n",
       "<polygon fill=\"none\" points=\"362,-146.5 362,-182.5 583,-182.5 583,-146.5 362,-146.5\" stroke=\"black\"/>\n",
       "<text font-family=\"Times,serif\" font-size=\"14.00\" text-anchor=\"middle\" x=\"472.5\" y=\"-160.8\">concatenate_1: Concatenate</text>\n",
       "</g>\n",
       "<!-- 140128675884056&#45;&gt;140128671504816 -->\n",
       "<g class=\"edge\" id=\"edge32\"><title>140128675884056-&gt;140128671504816</title>\n",
       "<path d=\"M447.536,-511.271C443.165,-484.317 435.5,-430.498 435.5,-384.5 435.5,-384.5 435.5,-384.5 435.5,-309.5 435.5,-267.66 450.334,-221.073 461.217,-192.524\" fill=\"none\" stroke=\"black\"/>\n",
       "<polygon fill=\"black\" points=\"464.613,-193.452 465.012,-182.865 458.098,-190.892 464.613,-193.452\" stroke=\"black\"/>\n",
       "</g>\n",
       "<!-- 140128671936920 -->\n",
       "<g class=\"node\" id=\"node19\"><title>140128671936920</title>\n",
       "<polygon fill=\"none\" points=\"549,-365.5 549,-401.5 640,-401.5 640,-365.5 549,-365.5\" stroke=\"black\"/>\n",
       "<text font-family=\"Times,serif\" font-size=\"14.00\" text-anchor=\"middle\" x=\"594.5\" y=\"-379.8\">dot_1: Dot</text>\n",
       "</g>\n",
       "<!-- 140128674074920&#45;&gt;140128671936920 -->\n",
       "<g class=\"edge\" id=\"edge26\"><title>140128674074920-&gt;140128671936920</title>\n",
       "<path d=\"M572.52,-438.313C575.868,-430.115 579.95,-420.123 583.682,-410.985\" fill=\"none\" stroke=\"black\"/>\n",
       "<polygon fill=\"black\" points=\"587.003,-412.11 587.545,-401.529 580.523,-409.463 587.003,-412.11\" stroke=\"black\"/>\n",
       "</g>\n",
       "<!-- 140128676510464&#45;&gt;140128671936920 -->\n",
       "<g class=\"edge\" id=\"edge27\"><title>140128676510464-&gt;140128671936920</title>\n",
       "<path d=\"M644.9,-511.167C646.78,-492.45 647.736,-462.082 638.5,-438 634.519,-427.619 627.674,-417.758 620.554,-409.396\" fill=\"none\" stroke=\"black\"/>\n",
       "<polygon fill=\"black\" points=\"623.038,-406.925 613.727,-401.87 617.853,-411.628 623.038,-406.925\" stroke=\"black\"/>\n",
       "</g>\n",
       "<!-- 140128671502632 -->\n",
       "<g class=\"node\" id=\"node21\"><title>140128671502632</title>\n",
       "<polygon fill=\"none\" points=\"464,-219.5 464,-255.5 555,-255.5 555,-219.5 464,-219.5\" stroke=\"black\"/>\n",
       "<text font-family=\"Times,serif\" font-size=\"14.00\" text-anchor=\"middle\" x=\"509.5\" y=\"-233.8\">dot_2: Dot</text>\n",
       "</g>\n",
       "<!-- 140128676510464&#45;&gt;140128671502632 -->\n",
       "<g class=\"edge\" id=\"edge30\"><title>140128676510464-&gt;140128671502632</title>\n",
       "<path d=\"M593.94,-525.319C559.416,-520.22 515.282,-507.314 492.5,-475 447.529,-411.215 478.491,-312.195 497.582,-265.112\" fill=\"none\" stroke=\"black\"/>\n",
       "<polygon fill=\"black\" points=\"500.922,-266.197 501.558,-255.622 494.466,-263.492 500.922,-266.197\" stroke=\"black\"/>\n",
       "</g>\n",
       "<!-- 140128671938152 -->\n",
       "<g class=\"node\" id=\"node20\"><title>140128671938152</title>\n",
       "<polygon fill=\"none\" points=\"501,-292.5 501,-328.5 688,-328.5 688,-292.5 501,-292.5\" stroke=\"black\"/>\n",
       "<text font-family=\"Times,serif\" font-size=\"14.00\" text-anchor=\"middle\" x=\"594.5\" y=\"-306.8\">activation_1: Activation</text>\n",
       "</g>\n",
       "<!-- 140128671936920&#45;&gt;140128671938152 -->\n",
       "<g class=\"edge\" id=\"edge28\"><title>140128671936920-&gt;140128671938152</title>\n",
       "<path d=\"M594.5,-365.313C594.5,-357.289 594.5,-347.547 594.5,-338.569\" fill=\"none\" stroke=\"black\"/>\n",
       "<polygon fill=\"black\" points=\"598,-338.529 594.5,-328.529 591,-338.529 598,-338.529\" stroke=\"black\"/>\n",
       "</g>\n",
       "<!-- 140128671938152&#45;&gt;140128671502632 -->\n",
       "<g class=\"edge\" id=\"edge29\"><title>140128671938152-&gt;140128671502632</title>\n",
       "<path d=\"M573.924,-292.313C563.066,-283.243 549.578,-271.977 537.754,-262.1\" fill=\"none\" stroke=\"black\"/>\n",
       "<polygon fill=\"black\" points=\"539.805,-259.253 529.887,-255.529 535.318,-264.626 539.805,-259.253\" stroke=\"black\"/>\n",
       "</g>\n",
       "<!-- 140128671502632&#45;&gt;140128671504816 -->\n",
       "<g class=\"edge\" id=\"edge31\"><title>140128671502632-&gt;140128671504816</title>\n",
       "<path d=\"M500.543,-219.313C496.18,-210.941 490.842,-200.697 485.999,-191.403\" fill=\"none\" stroke=\"black\"/>\n",
       "<polygon fill=\"black\" points=\"489.099,-189.779 481.374,-182.529 482.892,-193.014 489.099,-189.779\" stroke=\"black\"/>\n",
       "</g>\n",
       "<!-- 140128672660336 -->\n",
       "<g class=\"node\" id=\"node23\"><title>140128672660336</title>\n",
       "<polygon fill=\"none\" points=\"408.5,-73.5 408.5,-109.5 536.5,-109.5 536.5,-73.5 408.5,-73.5\" stroke=\"black\"/>\n",
       "<text font-family=\"Times,serif\" font-size=\"14.00\" text-anchor=\"middle\" x=\"472.5\" y=\"-87.8\">dense_2: Dense</text>\n",
       "</g>\n",
       "<!-- 140128671504816&#45;&gt;140128672660336 -->\n",
       "<g class=\"edge\" id=\"edge33\"><title>140128671504816-&gt;140128672660336</title>\n",
       "<path d=\"M472.5,-146.313C472.5,-138.289 472.5,-128.547 472.5,-119.569\" fill=\"none\" stroke=\"black\"/>\n",
       "<polygon fill=\"black\" points=\"476,-119.529 472.5,-109.529 469,-119.529 476,-119.529\" stroke=\"black\"/>\n",
       "</g>\n",
       "<!-- 140128671673536 -->\n",
       "<g class=\"node\" id=\"node24\"><title>140128671673536</title>\n",
       "<polygon fill=\"none\" points=\"408.5,-0.5 408.5,-36.5 536.5,-36.5 536.5,-0.5 408.5,-0.5\" stroke=\"black\"/>\n",
       "<text font-family=\"Times,serif\" font-size=\"14.00\" text-anchor=\"middle\" x=\"472.5\" y=\"-14.8\">dense_3: Dense</text>\n",
       "</g>\n",
       "<!-- 140128672660336&#45;&gt;140128671673536 -->\n",
       "<g class=\"edge\" id=\"edge34\"><title>140128672660336-&gt;140128671673536</title>\n",
       "<path d=\"M472.5,-73.3129C472.5,-65.2895 472.5,-55.5475 472.5,-46.5691\" fill=\"none\" stroke=\"black\"/>\n",
       "<polygon fill=\"black\" points=\"476,-46.5288 472.5,-36.5288 469,-46.5289 476,-46.5288\" stroke=\"black\"/>\n",
       "</g>\n",
       "</g>\n",
       "</svg>"
      ],
      "text/plain": [
       "<IPython.core.display.SVG object>"
      ]
     },
     "execution_count": 157,
     "metadata": {},
     "output_type": "execute_result"
    }
   ],
   "source": [
    "SVG(show_graph(model_generator.model))"
   ]
  },
  {
   "cell_type": "code",
   "execution_count": 158,
   "metadata": {
    "colab": {
     "autoexec": {
      "startup": false,
      "wait_interval": 0
     }
    },
    "colab_type": "code",
    "collapsed": true,
    "id": "cgO98yawZUAV"
   },
   "outputs": [],
   "source": [
    "class Discriminator(object):\n",
    "    def __init__(self,\n",
    "                 dim_input_seq,\n",
    "                 dim_input_vocab,\n",
    "                 dim_emb,\n",
    "                 dim_hid,\n",
    "                 emb_matrix_input):\n",
    "\n",
    "        self.dim_input_seq = dim_input_seq\n",
    "        self.dim_input_vocab = dim_input_vocab\n",
    "        \n",
    "        self.dim_emb = dim_emb\n",
    "        self.dim_hid = dim_hid\n",
    "        \n",
    "        self.emb_matrix_input = emb_matrix_input\n",
    "        \n",
    "        # Model\n",
    "        self.model = None\n",
    "        self.model_embedding = None\n",
    "        self.model_inference = None\n",
    "                \n",
    "        self._num_bidirectional_layers = 2\n",
    "        \n",
    "    def embedding(self):\n",
    "        from keras.layers import Input, Embedding\n",
    "        \n",
    "        # Input Layer\n",
    "        # (dim_input_seq,) \n",
    "        inputs = Input(shape=(self.dim_input_seq,), dtype='int32')\n",
    "        \n",
    "        # Embedding Layer\n",
    "        # (dim_input_seq,)->(dim_input_seq, dim_emb)\n",
    "        embedded_seq = Embedding(self.dim_input_vocab,\n",
    "                                 self.dim_emb,\n",
    "                                 weights=[self.emb_matrix_input],\n",
    "                                 trainable=False)(inputs)\n",
    "        \n",
    "        return Model(inputs, embedded_seq)\n",
    "        \n",
    "    def inference(self):\n",
    "        from keras.layers import Input, Dense, LSTM, Activation\n",
    "        from keras.layers import concatenate, dot, add\n",
    "        from keras.layers import Lambda\n",
    "        \n",
    "        # Input Layer\n",
    "        # (dim_input_seq, dim_emb)\n",
    "        inputs = Input(shape=(self.dim_input_seq, self.dim_emb))\n",
    "        \n",
    "        seq_fwd = Lambda(lambda x: x)(inputs)\n",
    "        seq_bwd = Lambda(lambda x: x)(inputs)\n",
    "        \n",
    "        # Bidirectional LSTM Layer\n",
    "        states = []\n",
    "        for i in range(self._num_bidirectional_layers):\n",
    "            # (dim_input_seq, dim_emb)->(dim_seq_input, dim_hid)\n",
    "            seq_fwd, *states_fwd = LSTM(self.dim_hid, return_sequences=True, return_state=True)(seq_fwd)\n",
    "            \n",
    "            # (dim_input_seq, dim_emb)->(dim_seq_input, dim_hid)\n",
    "            seq_bwd, *states_bwd = LSTM(self.dim_hid, return_sequences=True, return_state=True, go_backwards=True)(seq_bwd)\n",
    "                        \n",
    "            states.append([add([states_fwd[j], states_bwd[j]]) for j in range(len(states_fwd))])\n",
    "        \n",
    "        # Output Layer\n",
    "        outputs = [Dense(self.dim_hid, activation='relu')(concatenate([vec for vec in state])) for state in states]\n",
    "        outputs = Dense(self.dim_hid, activation='relu')(concatenate([output for output in outputs]))\n",
    "        outputs = Dense(self.dim_hid//2, activation='relu')(outputs)\n",
    "        outputs = Dense(self.dim_hid//4, activation='relu')(outputs)\n",
    "        outputs = Dense(2, activation='softmax')(outputs)\n",
    "        \n",
    "        return Model(inputs, outputs)\n",
    "    \n",
    "    def compile(self):\n",
    "        from keras.layers import Input\n",
    "        from keras.optimizers import Adam\n",
    "        \n",
    "        # Embedding model\n",
    "        print('Compiling: Embedding model')\n",
    "        self.model_embedding = self.embedding()\n",
    "        \n",
    "        # Inference model\n",
    "        print('Compiling: Inference model')\n",
    "        self.model_inference = self.inference()\n",
    "        \n",
    "        # Discriminator model\n",
    "        print('Compiling: Discriminator model')\n",
    "        inputs = Input(shape=(self.dim_input_seq,)) # (dim_input_seq,)\n",
    "        inputs_embedded = self.model_embedding(inputs) # (dim_input_seq,)->(dim_input_seq, dim_emb)\n",
    "        outpus = self.model_inference(inputs_embedded) # (dim_input_seq, dim_emb)->(2)\n",
    "        \n",
    "        self.model = Model(inputs, outpus)\n",
    "        self.model.compile(loss='categorical_crossentropy', optimizer=Adam(lr=0.001))\n",
    "        \n",
    "    def set_trainable(self, val):\n",
    "        self.model_inference.trainable = val\n",
    "        for l in self.model_inference.layers:\n",
    "            l.trainable = val"
   ]
  },
  {
   "cell_type": "code",
   "execution_count": 159,
   "metadata": {
    "collapsed": true
   },
   "outputs": [],
   "source": [
    "model_discriminator = Discriminator(dim_input_seq=dim_seq['JP'],\n",
    "                                    dim_input_vocab=dim_vocab['JP'],\n",
    "                                    dim_emb=dim_emb['JP'],\n",
    "                                    dim_hid=256,\n",
    "                                    emb_matrix_input=emb_matrix['JP'])"
   ]
  },
  {
   "cell_type": "code",
   "execution_count": 160,
   "metadata": {},
   "outputs": [
    {
     "name": "stdout",
     "output_type": "stream",
     "text": [
      "Compiling: Embedding model\n",
      "Compiling: Inference model\n",
      "Compiling: Discriminator model\n"
     ]
    }
   ],
   "source": [
    "model_discriminator.compile()"
   ]
  },
  {
   "cell_type": "code",
   "execution_count": 161,
   "metadata": {},
   "outputs": [
    {
     "data": {
      "image/svg+xml": [
       "<svg height=\"118pt\" viewBox=\"0.00 0.00 211.00 118.00\" width=\"211pt\" xmlns=\"http://www.w3.org/2000/svg\" xmlns:xlink=\"http://www.w3.org/1999/xlink\">\n",
       "<g class=\"graph\" id=\"graph0\" transform=\"scale(1 1) rotate(0) translate(4 114)\">\n",
       "<title>G</title>\n",
       "<polygon fill=\"white\" points=\"-4,4 -4,-114 207,-114 207,4 -4,4\" stroke=\"none\"/>\n",
       "<!-- 140132701122968 -->\n",
       "<g class=\"node\" id=\"node1\"><title>140132701122968</title>\n",
       "<polygon fill=\"none\" points=\"21.5,-73.5 21.5,-109.5 181.5,-109.5 181.5,-73.5 21.5,-73.5\" stroke=\"black\"/>\n",
       "<text font-family=\"Times,serif\" font-size=\"14.00\" text-anchor=\"middle\" x=\"101.5\" y=\"-87.8\">input_3: InputLayer</text>\n",
       "</g>\n",
       "<!-- 140132701123920 -->\n",
       "<g class=\"node\" id=\"node2\"><title>140132701123920</title>\n",
       "<polygon fill=\"none\" points=\"-1.42109e-14,-0.5 -1.42109e-14,-36.5 203,-36.5 203,-0.5 -1.42109e-14,-0.5\" stroke=\"black\"/>\n",
       "<text font-family=\"Times,serif\" font-size=\"14.00\" text-anchor=\"middle\" x=\"101.5\" y=\"-14.8\">embedding_3: Embedding</text>\n",
       "</g>\n",
       "<!-- 140132701122968&#45;&gt;140132701123920 -->\n",
       "<g class=\"edge\" id=\"edge1\"><title>140132701122968-&gt;140132701123920</title>\n",
       "<path d=\"M101.5,-73.3129C101.5,-65.2895 101.5,-55.5475 101.5,-46.5691\" fill=\"none\" stroke=\"black\"/>\n",
       "<polygon fill=\"black\" points=\"105,-46.5288 101.5,-36.5288 98.0001,-46.5289 105,-46.5288\" stroke=\"black\"/>\n",
       "</g>\n",
       "</g>\n",
       "</svg>"
      ],
      "text/plain": [
       "<IPython.core.display.SVG object>"
      ]
     },
     "execution_count": 161,
     "metadata": {},
     "output_type": "execute_result"
    }
   ],
   "source": [
    "SVG(show_graph(model_discriminator.model_embedding))"
   ]
  },
  {
   "cell_type": "code",
   "execution_count": 162,
   "metadata": {},
   "outputs": [
    {
     "data": {
      "image/svg+xml": [
       "<svg height=\"848pt\" viewBox=\"0.00 0.00 497.00 848.00\" width=\"497pt\" xmlns=\"http://www.w3.org/2000/svg\" xmlns:xlink=\"http://www.w3.org/1999/xlink\">\n",
       "<g class=\"graph\" id=\"graph0\" transform=\"scale(1 1) rotate(0) translate(4 844)\">\n",
       "<title>G</title>\n",
       "<polygon fill=\"white\" points=\"-4,4 -4,-844 493,-844 493,4 -4,4\" stroke=\"none\"/>\n",
       "<!-- 140132701123416 -->\n",
       "<g class=\"node\" id=\"node1\"><title>140132701123416</title>\n",
       "<polygon fill=\"none\" points=\"101.5,-803.5 101.5,-839.5 261.5,-839.5 261.5,-803.5 101.5,-803.5\" stroke=\"black\"/>\n",
       "<text font-family=\"Times,serif\" font-size=\"14.00\" text-anchor=\"middle\" x=\"181.5\" y=\"-817.8\">input_4: InputLayer</text>\n",
       "</g>\n",
       "<!-- 140132701153488 -->\n",
       "<g class=\"node\" id=\"node2\"><title>140132701153488</title>\n",
       "<polygon fill=\"none\" points=\"20.5,-730.5 20.5,-766.5 172.5,-766.5 172.5,-730.5 20.5,-730.5\" stroke=\"black\"/>\n",
       "<text font-family=\"Times,serif\" font-size=\"14.00\" text-anchor=\"middle\" x=\"96.5\" y=\"-744.8\">lambda_3: Lambda</text>\n",
       "</g>\n",
       "<!-- 140132701123416&#45;&gt;140132701153488 -->\n",
       "<g class=\"edge\" id=\"edge1\"><title>140132701123416-&gt;140132701153488</title>\n",
       "<path d=\"M160.924,-803.313C150.066,-794.243 136.578,-782.977 124.754,-773.1\" fill=\"none\" stroke=\"black\"/>\n",
       "<polygon fill=\"black\" points=\"126.805,-770.253 116.887,-766.529 122.318,-775.626 126.805,-770.253\" stroke=\"black\"/>\n",
       "</g>\n",
       "<!-- 140131145115800 -->\n",
       "<g class=\"node\" id=\"node3\"><title>140131145115800</title>\n",
       "<polygon fill=\"none\" points=\"190.5,-730.5 190.5,-766.5 342.5,-766.5 342.5,-730.5 190.5,-730.5\" stroke=\"black\"/>\n",
       "<text font-family=\"Times,serif\" font-size=\"14.00\" text-anchor=\"middle\" x=\"266.5\" y=\"-744.8\">lambda_4: Lambda</text>\n",
       "</g>\n",
       "<!-- 140132701123416&#45;&gt;140131145115800 -->\n",
       "<g class=\"edge\" id=\"edge2\"><title>140132701123416-&gt;140131145115800</title>\n",
       "<path d=\"M202.076,-803.313C212.934,-794.243 226.422,-782.977 238.246,-773.1\" fill=\"none\" stroke=\"black\"/>\n",
       "<polygon fill=\"black\" points=\"240.682,-775.626 246.113,-766.529 236.195,-770.253 240.682,-775.626\" stroke=\"black\"/>\n",
       "</g>\n",
       "<!-- 140132701125824 -->\n",
       "<g class=\"node\" id=\"node4\"><title>140132701125824</title>\n",
       "<polygon fill=\"none\" points=\"47.5,-657.5 47.5,-693.5 163.5,-693.5 163.5,-657.5 47.5,-657.5\" stroke=\"black\"/>\n",
       "<text font-family=\"Times,serif\" font-size=\"14.00\" text-anchor=\"middle\" x=\"105.5\" y=\"-671.8\">lstm_7: LSTM</text>\n",
       "</g>\n",
       "<!-- 140132701153488&#45;&gt;140132701125824 -->\n",
       "<g class=\"edge\" id=\"edge3\"><title>140132701153488-&gt;140132701125824</title>\n",
       "<path d=\"M98.6786,-730.313C99.6957,-722.289 100.931,-712.547 102.069,-703.569\" fill=\"none\" stroke=\"black\"/>\n",
       "<polygon fill=\"black\" points=\"105.556,-703.89 103.341,-693.529 98.6116,-703.009 105.556,-703.89\" stroke=\"black\"/>\n",
       "</g>\n",
       "<!-- 140132701078640 -->\n",
       "<g class=\"node\" id=\"node5\"><title>140132701078640</title>\n",
       "<polygon fill=\"none\" points=\"199.5,-657.5 199.5,-693.5 315.5,-693.5 315.5,-657.5 199.5,-657.5\" stroke=\"black\"/>\n",
       "<text font-family=\"Times,serif\" font-size=\"14.00\" text-anchor=\"middle\" x=\"257.5\" y=\"-671.8\">lstm_8: LSTM</text>\n",
       "</g>\n",
       "<!-- 140131145115800&#45;&gt;140132701078640 -->\n",
       "<g class=\"edge\" id=\"edge4\"><title>140131145115800-&gt;140132701078640</title>\n",
       "<path d=\"M264.321,-730.313C263.304,-722.289 262.069,-712.547 260.931,-703.569\" fill=\"none\" stroke=\"black\"/>\n",
       "<polygon fill=\"black\" points=\"264.388,-703.009 259.659,-693.529 257.444,-703.89 264.388,-703.009\" stroke=\"black\"/>\n",
       "</g>\n",
       "<!-- 140132697884432 -->\n",
       "<g class=\"node\" id=\"node6\"><title>140132697884432</title>\n",
       "<polygon fill=\"none\" points=\"229.5,-584.5 229.5,-620.5 345.5,-620.5 345.5,-584.5 229.5,-584.5\" stroke=\"black\"/>\n",
       "<text font-family=\"Times,serif\" font-size=\"14.00\" text-anchor=\"middle\" x=\"287.5\" y=\"-598.8\">lstm_9: LSTM</text>\n",
       "</g>\n",
       "<!-- 140132701125824&#45;&gt;140132697884432 -->\n",
       "<g class=\"edge\" id=\"edge5\"><title>140132701125824-&gt;140132697884432</title>\n",
       "<path d=\"M149.094,-657.494C174.681,-647.512 207.206,-634.824 234.296,-624.255\" fill=\"none\" stroke=\"black\"/>\n",
       "<polygon fill=\"black\" points=\"235.587,-627.509 243.631,-620.614 233.043,-620.987 235.587,-627.509\" stroke=\"black\"/>\n",
       "</g>\n",
       "<!-- 140132699332392 -->\n",
       "<g class=\"node\" id=\"node8\"><title>140132699332392</title>\n",
       "<polygon fill=\"none\" points=\"0,-584.5 0,-620.5 97,-620.5 97,-584.5 0,-584.5\" stroke=\"black\"/>\n",
       "<text font-family=\"Times,serif\" font-size=\"14.00\" text-anchor=\"middle\" x=\"48.5\" y=\"-598.8\">add_6: Add</text>\n",
       "</g>\n",
       "<!-- 140132701125824&#45;&gt;140132699332392 -->\n",
       "<g class=\"edge\" id=\"edge7\"><title>140132701125824-&gt;140132699332392</title>\n",
       "<path d=\"M91.7019,-657.313C84.7705,-648.679 76.2414,-638.055 68.5978,-628.534\" fill=\"none\" stroke=\"black\"/>\n",
       "<polygon fill=\"black\" points=\"71.1607,-626.136 62.171,-620.529 65.7021,-630.518 71.1607,-626.136\" stroke=\"black\"/>\n",
       "</g>\n",
       "<!-- 140132699331664 -->\n",
       "<g class=\"node\" id=\"node9\"><title>140132699331664</title>\n",
       "<polygon fill=\"none\" points=\"115,-584.5 115,-620.5 212,-620.5 212,-584.5 115,-584.5\" stroke=\"black\"/>\n",
       "<text font-family=\"Times,serif\" font-size=\"14.00\" text-anchor=\"middle\" x=\"163.5\" y=\"-598.8\">add_7: Add</text>\n",
       "</g>\n",
       "<!-- 140132701125824&#45;&gt;140132699331664 -->\n",
       "<g class=\"edge\" id=\"edge9\"><title>140132701125824-&gt;140132699331664</title>\n",
       "<path d=\"M119.54,-657.313C126.593,-648.679 135.272,-638.055 143.05,-628.534\" fill=\"none\" stroke=\"black\"/>\n",
       "<polygon fill=\"black\" points=\"145.973,-630.488 149.589,-620.529 140.552,-626.059 145.973,-630.488\" stroke=\"black\"/>\n",
       "</g>\n",
       "<!-- 140132697174648 -->\n",
       "<g class=\"node\" id=\"node7\"><title>140132697174648</title>\n",
       "<polygon fill=\"none\" points=\"364,-584.5 364,-620.5 489,-620.5 489,-584.5 364,-584.5\" stroke=\"black\"/>\n",
       "<text font-family=\"Times,serif\" font-size=\"14.00\" text-anchor=\"middle\" x=\"426.5\" y=\"-598.8\">lstm_10: LSTM</text>\n",
       "</g>\n",
       "<!-- 140132701078640&#45;&gt;140132697174648 -->\n",
       "<g class=\"edge\" id=\"edge6\"><title>140132701078640-&gt;140132697174648</title>\n",
       "<path d=\"M297.98,-657.494C321.532,-647.599 351.414,-635.045 376.436,-624.533\" fill=\"none\" stroke=\"black\"/>\n",
       "<polygon fill=\"black\" points=\"377.901,-627.714 385.765,-620.614 375.19,-621.26 377.901,-627.714\" stroke=\"black\"/>\n",
       "</g>\n",
       "<!-- 140132701078640&#45;&gt;140132699332392 -->\n",
       "<g class=\"edge\" id=\"edge8\"><title>140132701078640-&gt;140132699332392</title>\n",
       "<path d=\"M207.439,-657.494C177.124,-647.195 138.328,-634.016 106.655,-623.256\" fill=\"none\" stroke=\"black\"/>\n",
       "<polygon fill=\"black\" points=\"107.666,-619.903 97.0718,-620 105.415,-626.531 107.666,-619.903\" stroke=\"black\"/>\n",
       "</g>\n",
       "<!-- 140132701078640&#45;&gt;140132699331664 -->\n",
       "<g class=\"edge\" id=\"edge10\"><title>140132701078640-&gt;140132699331664</title>\n",
       "<path d=\"M234.745,-657.313C222.622,-648.156 207.534,-636.76 194.369,-626.816\" fill=\"none\" stroke=\"black\"/>\n",
       "<polygon fill=\"black\" points=\"196.134,-623.763 186.045,-620.529 191.915,-629.349 196.134,-623.763\" stroke=\"black\"/>\n",
       "</g>\n",
       "<!-- 140132695450624 -->\n",
       "<g class=\"node\" id=\"node10\"><title>140132695450624</title>\n",
       "<polygon fill=\"none\" points=\"251,-511.5 251,-547.5 348,-547.5 348,-511.5 251,-511.5\" stroke=\"black\"/>\n",
       "<text font-family=\"Times,serif\" font-size=\"14.00\" text-anchor=\"middle\" x=\"299.5\" y=\"-525.8\">add_8: Add</text>\n",
       "</g>\n",
       "<!-- 140132697884432&#45;&gt;140132695450624 -->\n",
       "<g class=\"edge\" id=\"edge11\"><title>140132697884432-&gt;140132695450624</title>\n",
       "<path d=\"M290.405,-584.313C291.761,-576.289 293.407,-566.547 294.925,-557.569\" fill=\"none\" stroke=\"black\"/>\n",
       "<polygon fill=\"black\" points=\"298.406,-557.972 296.622,-547.529 291.504,-556.806 298.406,-557.972\" stroke=\"black\"/>\n",
       "</g>\n",
       "<!-- 140132695451128 -->\n",
       "<g class=\"node\" id=\"node11\"><title>140132695451128</title>\n",
       "<polygon fill=\"none\" points=\"366,-511.5 366,-547.5 463,-547.5 463,-511.5 366,-511.5\" stroke=\"black\"/>\n",
       "<text font-family=\"Times,serif\" font-size=\"14.00\" text-anchor=\"middle\" x=\"414.5\" y=\"-525.8\">add_9: Add</text>\n",
       "</g>\n",
       "<!-- 140132697884432&#45;&gt;140132695451128 -->\n",
       "<g class=\"edge\" id=\"edge13\"><title>140132697884432-&gt;140132695451128</title>\n",
       "<path d=\"M317.92,-584.494C335.073,-574.904 356.694,-562.817 375.128,-552.511\" fill=\"none\" stroke=\"black\"/>\n",
       "<polygon fill=\"black\" points=\"376.868,-555.548 383.888,-547.614 373.452,-549.438 376.868,-555.548\" stroke=\"black\"/>\n",
       "</g>\n",
       "<!-- 140132697174648&#45;&gt;140132695450624 -->\n",
       "<g class=\"edge\" id=\"edge12\"><title>140132697174648-&gt;140132695450624</title>\n",
       "<path d=\"M396.08,-584.494C378.927,-574.904 357.306,-562.817 338.872,-552.511\" fill=\"none\" stroke=\"black\"/>\n",
       "<polygon fill=\"black\" points=\"340.548,-549.438 330.112,-547.614 337.132,-555.548 340.548,-549.438\" stroke=\"black\"/>\n",
       "</g>\n",
       "<!-- 140132697174648&#45;&gt;140132695451128 -->\n",
       "<g class=\"edge\" id=\"edge14\"><title>140132697174648-&gt;140132695451128</title>\n",
       "<path d=\"M423.595,-584.313C422.239,-576.289 420.593,-566.547 419.075,-557.569\" fill=\"none\" stroke=\"black\"/>\n",
       "<polygon fill=\"black\" points=\"422.496,-556.806 417.378,-547.529 415.594,-557.972 422.496,-556.806\" stroke=\"black\"/>\n",
       "</g>\n",
       "<!-- 140128661842856 -->\n",
       "<g class=\"node\" id=\"node12\"><title>140128661842856</title>\n",
       "<polygon fill=\"none\" points=\"12,-511.5 12,-547.5 233,-547.5 233,-511.5 12,-511.5\" stroke=\"black\"/>\n",
       "<text font-family=\"Times,serif\" font-size=\"14.00\" text-anchor=\"middle\" x=\"122.5\" y=\"-525.8\">concatenate_2: Concatenate</text>\n",
       "</g>\n",
       "<!-- 140132699332392&#45;&gt;140128661842856 -->\n",
       "<g class=\"edge\" id=\"edge15\"><title>140132699332392-&gt;140128661842856</title>\n",
       "<path d=\"M66.4133,-584.313C75.6847,-575.417 87.1578,-564.409 97.307,-554.672\" fill=\"none\" stroke=\"black\"/>\n",
       "<polygon fill=\"black\" points=\"99.9589,-556.978 104.752,-547.529 95.1126,-551.927 99.9589,-556.978\" stroke=\"black\"/>\n",
       "</g>\n",
       "<!-- 140132699331664&#45;&gt;140128661842856 -->\n",
       "<g class=\"edge\" id=\"edge16\"><title>140132699331664-&gt;140128661842856</title>\n",
       "<path d=\"M153.575,-584.313C148.74,-575.941 142.825,-565.697 137.458,-556.403\" fill=\"none\" stroke=\"black\"/>\n",
       "<polygon fill=\"black\" points=\"140.365,-554.438 132.334,-547.529 134.303,-557.939 140.365,-554.438\" stroke=\"black\"/>\n",
       "</g>\n",
       "<!-- 140128662013264 -->\n",
       "<g class=\"node\" id=\"node13\"><title>140128662013264</title>\n",
       "<polygon fill=\"none\" points=\"189,-438.5 189,-474.5 410,-474.5 410,-438.5 189,-438.5\" stroke=\"black\"/>\n",
       "<text font-family=\"Times,serif\" font-size=\"14.00\" text-anchor=\"middle\" x=\"299.5\" y=\"-452.8\">concatenate_3: Concatenate</text>\n",
       "</g>\n",
       "<!-- 140132695450624&#45;&gt;140128662013264 -->\n",
       "<g class=\"edge\" id=\"edge17\"><title>140132695450624-&gt;140128662013264</title>\n",
       "<path d=\"M299.5,-511.313C299.5,-503.289 299.5,-493.547 299.5,-484.569\" fill=\"none\" stroke=\"black\"/>\n",
       "<polygon fill=\"black\" points=\"303,-484.529 299.5,-474.529 296,-484.529 303,-484.529\" stroke=\"black\"/>\n",
       "</g>\n",
       "<!-- 140132695451128&#45;&gt;140128662013264 -->\n",
       "<g class=\"edge\" id=\"edge18\"><title>140132695451128-&gt;140128662013264</title>\n",
       "<path d=\"M386.955,-511.494C371.705,-502.079 352.555,-490.255 336.065,-480.075\" fill=\"none\" stroke=\"black\"/>\n",
       "<polygon fill=\"black\" points=\"337.567,-476.889 327.219,-474.614 333.889,-482.845 337.567,-476.889\" stroke=\"black\"/>\n",
       "</g>\n",
       "<!-- 140132694428752 -->\n",
       "<g class=\"node\" id=\"node14\"><title>140132694428752</title>\n",
       "<polygon fill=\"none\" points=\"70.5,-365.5 70.5,-401.5 198.5,-401.5 198.5,-365.5 70.5,-365.5\" stroke=\"black\"/>\n",
       "<text font-family=\"Times,serif\" font-size=\"14.00\" text-anchor=\"middle\" x=\"134.5\" y=\"-379.8\">dense_4: Dense</text>\n",
       "</g>\n",
       "<!-- 140128661842856&#45;&gt;140132694428752 -->\n",
       "<g class=\"edge\" id=\"edge19\"><title>140128661842856-&gt;140132694428752</title>\n",
       "<path d=\"M123.924,-511.416C125.981,-486.733 129.804,-440.851 132.247,-411.541\" fill=\"none\" stroke=\"black\"/>\n",
       "<polygon fill=\"black\" points=\"135.736,-411.818 133.078,-401.562 128.76,-411.237 135.736,-411.818\" stroke=\"black\"/>\n",
       "</g>\n",
       "<!-- 140128661841848 -->\n",
       "<g class=\"node\" id=\"node15\"><title>140128661841848</title>\n",
       "<polygon fill=\"none\" points=\"220.5,-365.5 220.5,-401.5 348.5,-401.5 348.5,-365.5 220.5,-365.5\" stroke=\"black\"/>\n",
       "<text font-family=\"Times,serif\" font-size=\"14.00\" text-anchor=\"middle\" x=\"284.5\" y=\"-379.8\">dense_5: Dense</text>\n",
       "</g>\n",
       "<!-- 140128662013264&#45;&gt;140128661841848 -->\n",
       "<g class=\"edge\" id=\"edge20\"><title>140128662013264-&gt;140128661841848</title>\n",
       "<path d=\"M295.869,-438.313C294.174,-430.289 292.116,-420.547 290.219,-411.569\" fill=\"none\" stroke=\"black\"/>\n",
       "<polygon fill=\"black\" points=\"293.589,-410.589 288.098,-401.529 286.74,-412.036 293.589,-410.589\" stroke=\"black\"/>\n",
       "</g>\n",
       "<!-- 140128661581216 -->\n",
       "<g class=\"node\" id=\"node16\"><title>140128661581216</title>\n",
       "<polygon fill=\"none\" points=\"99,-292.5 99,-328.5 320,-328.5 320,-292.5 99,-292.5\" stroke=\"black\"/>\n",
       "<text font-family=\"Times,serif\" font-size=\"14.00\" text-anchor=\"middle\" x=\"209.5\" y=\"-306.8\">concatenate_4: Concatenate</text>\n",
       "</g>\n",
       "<!-- 140132694428752&#45;&gt;140128661581216 -->\n",
       "<g class=\"edge\" id=\"edge21\"><title>140132694428752-&gt;140128661581216</title>\n",
       "<path d=\"M152.655,-365.313C162.052,-356.417 173.68,-345.409 183.967,-335.672\" fill=\"none\" stroke=\"black\"/>\n",
       "<polygon fill=\"black\" points=\"186.656,-337.945 191.512,-328.529 181.844,-332.862 186.656,-337.945\" stroke=\"black\"/>\n",
       "</g>\n",
       "<!-- 140128661841848&#45;&gt;140128661581216 -->\n",
       "<g class=\"edge\" id=\"edge22\"><title>140128661841848-&gt;140128661581216</title>\n",
       "<path d=\"M266.345,-365.313C256.948,-356.417 245.32,-345.409 235.033,-335.672\" fill=\"none\" stroke=\"black\"/>\n",
       "<polygon fill=\"black\" points=\"237.156,-332.862 227.488,-328.529 232.344,-337.945 237.156,-332.862\" stroke=\"black\"/>\n",
       "</g>\n",
       "<!-- 140132694334376 -->\n",
       "<g class=\"node\" id=\"node17\"><title>140132694334376</title>\n",
       "<polygon fill=\"none\" points=\"145.5,-219.5 145.5,-255.5 273.5,-255.5 273.5,-219.5 145.5,-219.5\" stroke=\"black\"/>\n",
       "<text font-family=\"Times,serif\" font-size=\"14.00\" text-anchor=\"middle\" x=\"209.5\" y=\"-233.8\">dense_6: Dense</text>\n",
       "</g>\n",
       "<!-- 140128661581216&#45;&gt;140132694334376 -->\n",
       "<g class=\"edge\" id=\"edge23\"><title>140128661581216-&gt;140132694334376</title>\n",
       "<path d=\"M209.5,-292.313C209.5,-284.289 209.5,-274.547 209.5,-265.569\" fill=\"none\" stroke=\"black\"/>\n",
       "<polygon fill=\"black\" points=\"213,-265.529 209.5,-255.529 206,-265.529 213,-265.529\" stroke=\"black\"/>\n",
       "</g>\n",
       "<!-- 140128661581440 -->\n",
       "<g class=\"node\" id=\"node18\"><title>140128661581440</title>\n",
       "<polygon fill=\"none\" points=\"145.5,-146.5 145.5,-182.5 273.5,-182.5 273.5,-146.5 145.5,-146.5\" stroke=\"black\"/>\n",
       "<text font-family=\"Times,serif\" font-size=\"14.00\" text-anchor=\"middle\" x=\"209.5\" y=\"-160.8\">dense_7: Dense</text>\n",
       "</g>\n",
       "<!-- 140132694334376&#45;&gt;140128661581440 -->\n",
       "<g class=\"edge\" id=\"edge24\"><title>140132694334376-&gt;140128661581440</title>\n",
       "<path d=\"M209.5,-219.313C209.5,-211.289 209.5,-201.547 209.5,-192.569\" fill=\"none\" stroke=\"black\"/>\n",
       "<polygon fill=\"black\" points=\"213,-192.529 209.5,-182.529 206,-192.529 213,-192.529\" stroke=\"black\"/>\n",
       "</g>\n",
       "<!-- 140128661747640 -->\n",
       "<g class=\"node\" id=\"node19\"><title>140128661747640</title>\n",
       "<polygon fill=\"none\" points=\"145.5,-73.5 145.5,-109.5 273.5,-109.5 273.5,-73.5 145.5,-73.5\" stroke=\"black\"/>\n",
       "<text font-family=\"Times,serif\" font-size=\"14.00\" text-anchor=\"middle\" x=\"209.5\" y=\"-87.8\">dense_8: Dense</text>\n",
       "</g>\n",
       "<!-- 140128661581440&#45;&gt;140128661747640 -->\n",
       "<g class=\"edge\" id=\"edge25\"><title>140128661581440-&gt;140128661747640</title>\n",
       "<path d=\"M209.5,-146.313C209.5,-138.289 209.5,-128.547 209.5,-119.569\" fill=\"none\" stroke=\"black\"/>\n",
       "<polygon fill=\"black\" points=\"213,-119.529 209.5,-109.529 206,-119.529 213,-119.529\" stroke=\"black\"/>\n",
       "</g>\n",
       "<!-- 140128661306896 -->\n",
       "<g class=\"node\" id=\"node20\"><title>140128661306896</title>\n",
       "<polygon fill=\"none\" points=\"145.5,-0.5 145.5,-36.5 273.5,-36.5 273.5,-0.5 145.5,-0.5\" stroke=\"black\"/>\n",
       "<text font-family=\"Times,serif\" font-size=\"14.00\" text-anchor=\"middle\" x=\"209.5\" y=\"-14.8\">dense_9: Dense</text>\n",
       "</g>\n",
       "<!-- 140128661747640&#45;&gt;140128661306896 -->\n",
       "<g class=\"edge\" id=\"edge26\"><title>140128661747640-&gt;140128661306896</title>\n",
       "<path d=\"M209.5,-73.3129C209.5,-65.2895 209.5,-55.5475 209.5,-46.5691\" fill=\"none\" stroke=\"black\"/>\n",
       "<polygon fill=\"black\" points=\"213,-46.5288 209.5,-36.5288 206,-46.5289 213,-46.5288\" stroke=\"black\"/>\n",
       "</g>\n",
       "</g>\n",
       "</svg>"
      ],
      "text/plain": [
       "<IPython.core.display.SVG object>"
      ]
     },
     "execution_count": 162,
     "metadata": {},
     "output_type": "execute_result"
    }
   ],
   "source": [
    "SVG(show_graph(model_discriminator.model_inference))"
   ]
  },
  {
   "cell_type": "code",
   "execution_count": 163,
   "metadata": {},
   "outputs": [
    {
     "data": {
      "image/svg+xml": [
       "<svg height=\"191pt\" viewBox=\"0.00 0.00 168.00 191.00\" width=\"168pt\" xmlns=\"http://www.w3.org/2000/svg\" xmlns:xlink=\"http://www.w3.org/1999/xlink\">\n",
       "<g class=\"graph\" id=\"graph0\" transform=\"scale(1 1) rotate(0) translate(4 187)\">\n",
       "<title>G</title>\n",
       "<polygon fill=\"white\" points=\"-4,4 -4,-187 164,-187 164,4 -4,4\" stroke=\"none\"/>\n",
       "<!-- 140128661035552 -->\n",
       "<g class=\"node\" id=\"node1\"><title>140128661035552</title>\n",
       "<polygon fill=\"none\" points=\"0,-146.5 0,-182.5 160,-182.5 160,-146.5 0,-146.5\" stroke=\"black\"/>\n",
       "<text font-family=\"Times,serif\" font-size=\"14.00\" text-anchor=\"middle\" x=\"80\" y=\"-160.8\">input_5: InputLayer</text>\n",
       "</g>\n",
       "<!-- 140128671216864 -->\n",
       "<g class=\"node\" id=\"node2\"><title>140128671216864</title>\n",
       "<polygon fill=\"none\" points=\"14.5,-73.5 14.5,-109.5 145.5,-109.5 145.5,-73.5 14.5,-73.5\" stroke=\"black\"/>\n",
       "<text font-family=\"Times,serif\" font-size=\"14.00\" text-anchor=\"middle\" x=\"80\" y=\"-87.8\">model_2: Model</text>\n",
       "</g>\n",
       "<!-- 140128661035552&#45;&gt;140128671216864 -->\n",
       "<g class=\"edge\" id=\"edge1\"><title>140128661035552-&gt;140128671216864</title>\n",
       "<path d=\"M80,-146.313C80,-138.289 80,-128.547 80,-119.569\" fill=\"none\" stroke=\"black\"/>\n",
       "<polygon fill=\"black\" points=\"83.5001,-119.529 80,-109.529 76.5001,-119.529 83.5001,-119.529\" stroke=\"black\"/>\n",
       "</g>\n",
       "<!-- 140128661468328 -->\n",
       "<g class=\"node\" id=\"node3\"><title>140128661468328</title>\n",
       "<polygon fill=\"none\" points=\"14.5,-0.5 14.5,-36.5 145.5,-36.5 145.5,-0.5 14.5,-0.5\" stroke=\"black\"/>\n",
       "<text font-family=\"Times,serif\" font-size=\"14.00\" text-anchor=\"middle\" x=\"80\" y=\"-14.8\">model_3: Model</text>\n",
       "</g>\n",
       "<!-- 140128671216864&#45;&gt;140128661468328 -->\n",
       "<g class=\"edge\" id=\"edge2\"><title>140128671216864-&gt;140128661468328</title>\n",
       "<path d=\"M80,-73.3129C80,-65.2895 80,-55.5475 80,-46.5691\" fill=\"none\" stroke=\"black\"/>\n",
       "<polygon fill=\"black\" points=\"83.5001,-46.5288 80,-36.5288 76.5001,-46.5289 83.5001,-46.5288\" stroke=\"black\"/>\n",
       "</g>\n",
       "</g>\n",
       "</svg>"
      ],
      "text/plain": [
       "<IPython.core.display.SVG object>"
      ]
     },
     "execution_count": 163,
     "metadata": {},
     "output_type": "execute_result"
    }
   ],
   "source": [
    "SVG(show_graph(model_discriminator.model))"
   ]
  },
  {
   "cell_type": "code",
   "execution_count": 164,
   "metadata": {
    "collapsed": true
   },
   "outputs": [],
   "source": [
    "class GAN(object):\n",
    "    def __init__(self, generator, discriminator):\n",
    "\n",
    "        self.generator = generator\n",
    "        self.discriminator = discriminator\n",
    "        \n",
    "    def inference(self):\n",
    "        from keras.layers import Input\n",
    "        from keras.layers import dot\n",
    "        from keras.layers import Lambda\n",
    "        \n",
    "        # [(g_dim_input_seq,), (g_dim_output_seq,)]\n",
    "        inputs_generator = [Input(shape=(dim_input,), dtype='int32') for dim_input in self.generator['dim_input']]\n",
    "        \n",
    "        # [(g_dim_input_seq, ), (g_dim_output_seq, )]->(g_dim_output_seq, g_dim_output_vocab)  \n",
    "        outputs_generator = self.generator['model']([input for input in inputs_generator])\n",
    "        \n",
    "        # (d_dim_input_vocab, dim_emb)\n",
    "        inputs_emb_matrix = Input(tensor=K.constant(self.discriminator['emb_matrix'][np.newaxis]))\n",
    "        \n",
    "        #[(d_dim_input_seq, d_dim_input_vocab), (d_dim_input_vocab, dim_emb)]-> (d_dim_input_seq, dim_emb)\n",
    "        inputs_discriminator = dot([outputs_generator, inputs_emb_matrix], axes=(2,1))\n",
    "        \n",
    "        # (d_dim_input_seq, dim_emb)->(2,)\n",
    "        outputs_discriminator = self.discriminator['model'](inputs_discriminator)\n",
    "\n",
    "        return Model([inputs_generator[0], inputs_generator[1], inputs_emb_matrix], outputs_discriminator)\n",
    "    \n",
    "    def compile(self):\n",
    "        from keras.optimizers import Adam\n",
    "\n",
    "        self.model = self.inference()\n",
    "        self.model.compile(loss='categorical_crossentropy', optimizer=Adam(lr=0.001))"
   ]
  },
  {
   "cell_type": "code",
   "execution_count": 165,
   "metadata": {
    "colab": {
     "autoexec": {
      "startup": false,
      "wait_interval": 0
     }
    },
    "colab_type": "code",
    "collapsed": true,
    "id": "dRSYEY4rZUAd"
   },
   "outputs": [],
   "source": [
    "model_GAN = GAN(generator={'model': model_generator.model,\n",
    "                           'dim_input': [model_generator.dim_input_seq, model_generator.dim_output_seq]},\n",
    "                discriminator={'model': model_discriminator.model_inference,\n",
    "                               'emb_matrix': model_discriminator.emb_matrix_input})"
   ]
  },
  {
   "cell_type": "code",
   "execution_count": 166,
   "metadata": {
    "colab": {
     "autoexec": {
      "startup": false,
      "wait_interval": 0
     }
    },
    "colab_type": "code",
    "collapsed": true,
    "id": "AUWeytsQZUAg"
   },
   "outputs": [],
   "source": [
    "model_discriminator.set_trainable(False)\n",
    "model_GAN.compile()"
   ]
  },
  {
   "cell_type": "code",
   "execution_count": 167,
   "metadata": {
    "colab": {
     "autoexec": {
      "startup": false,
      "wait_interval": 0
     },
     "output_extras": [
      {}
     ]
    },
    "colab_type": "code",
    "id": "V-aX-1DFZUAo",
    "outputId": "0c9bd5fe-9610-435b-9548-2ef5aff24efb"
   },
   "outputs": [
    {
     "data": {
      "image/svg+xml": [
       "<svg height=\"264pt\" viewBox=\"0.00 0.00 421.00 264.00\" width=\"421pt\" xmlns=\"http://www.w3.org/2000/svg\" xmlns:xlink=\"http://www.w3.org/1999/xlink\">\n",
       "<g class=\"graph\" id=\"graph0\" transform=\"scale(1 1) rotate(0) translate(4 260)\">\n",
       "<title>G</title>\n",
       "<polygon fill=\"white\" points=\"-4,4 -4,-260 417,-260 417,4 -4,4\" stroke=\"none\"/>\n",
       "<!-- 140128770414128 -->\n",
       "<g class=\"node\" id=\"node1\"><title>140128770414128</title>\n",
       "<polygon fill=\"none\" points=\"0,-219.5 0,-255.5 160,-255.5 160,-219.5 0,-219.5\" stroke=\"black\"/>\n",
       "<text font-family=\"Times,serif\" font-size=\"14.00\" text-anchor=\"middle\" x=\"80\" y=\"-233.8\">input_6: InputLayer</text>\n",
       "</g>\n",
       "<!-- 140128671312304 -->\n",
       "<g class=\"node\" id=\"node3\"><title>140128671312304</title>\n",
       "<polygon fill=\"none\" points=\"103.5,-146.5 103.5,-182.5 234.5,-182.5 234.5,-146.5 103.5,-146.5\" stroke=\"black\"/>\n",
       "<text font-family=\"Times,serif\" font-size=\"14.00\" text-anchor=\"middle\" x=\"169\" y=\"-160.8\">model_1: Model</text>\n",
       "</g>\n",
       "<!-- 140128770414128&#45;&gt;140128671312304 -->\n",
       "<g class=\"edge\" id=\"edge1\"><title>140128770414128-&gt;140128671312304</title>\n",
       "<path d=\"M101.544,-219.313C113.023,-210.156 127.308,-198.76 139.773,-188.816\" fill=\"none\" stroke=\"black\"/>\n",
       "<polygon fill=\"black\" points=\"142.019,-191.501 147.654,-182.529 137.654,-186.029 142.019,-191.501\" stroke=\"black\"/>\n",
       "</g>\n",
       "<!-- 140128770413120 -->\n",
       "<g class=\"node\" id=\"node2\"><title>140128770413120</title>\n",
       "<polygon fill=\"none\" points=\"178,-219.5 178,-255.5 338,-255.5 338,-219.5 178,-219.5\" stroke=\"black\"/>\n",
       "<text font-family=\"Times,serif\" font-size=\"14.00\" text-anchor=\"middle\" x=\"258\" y=\"-233.8\">input_7: InputLayer</text>\n",
       "</g>\n",
       "<!-- 140128770413120&#45;&gt;140128671312304 -->\n",
       "<g class=\"edge\" id=\"edge2\"><title>140128770413120-&gt;140128671312304</title>\n",
       "<path d=\"M236.456,-219.313C224.977,-210.156 210.692,-198.76 198.227,-188.816\" fill=\"none\" stroke=\"black\"/>\n",
       "<polygon fill=\"black\" points=\"200.346,-186.029 190.346,-182.529 195.981,-191.501 200.346,-186.029\" stroke=\"black\"/>\n",
       "</g>\n",
       "<!-- 140128761966488 -->\n",
       "<g class=\"node\" id=\"node5\"><title>140128761966488</title>\n",
       "<polygon fill=\"none\" points=\"205.5,-73.5 205.5,-109.5 296.5,-109.5 296.5,-73.5 205.5,-73.5\" stroke=\"black\"/>\n",
       "<text font-family=\"Times,serif\" font-size=\"14.00\" text-anchor=\"middle\" x=\"251\" y=\"-87.8\">dot_3: Dot</text>\n",
       "</g>\n",
       "<!-- 140128671312304&#45;&gt;140128761966488 -->\n",
       "<g class=\"edge\" id=\"edge3\"><title>140128671312304-&gt;140128761966488</title>\n",
       "<path d=\"M188.85,-146.313C199.325,-137.243 212.337,-125.977 223.743,-116.1\" fill=\"none\" stroke=\"black\"/>\n",
       "<polygon fill=\"black\" points=\"226.064,-118.721 231.333,-109.529 221.482,-113.429 226.064,-118.721\" stroke=\"black\"/>\n",
       "</g>\n",
       "<!-- 140128762407736 -->\n",
       "<g class=\"node\" id=\"node4\"><title>140128762407736</title>\n",
       "<polygon fill=\"none\" points=\"253,-146.5 253,-182.5 413,-182.5 413,-146.5 253,-146.5\" stroke=\"black\"/>\n",
       "<text font-family=\"Times,serif\" font-size=\"14.00\" text-anchor=\"middle\" x=\"333\" y=\"-160.8\">input_8: InputLayer</text>\n",
       "</g>\n",
       "<!-- 140128762407736&#45;&gt;140128761966488 -->\n",
       "<g class=\"edge\" id=\"edge4\"><title>140128762407736-&gt;140128761966488</title>\n",
       "<path d=\"M313.15,-146.313C302.675,-137.243 289.663,-125.977 278.257,-116.1\" fill=\"none\" stroke=\"black\"/>\n",
       "<polygon fill=\"black\" points=\"280.518,-113.429 270.667,-109.529 275.936,-118.721 280.518,-113.429\" stroke=\"black\"/>\n",
       "</g>\n",
       "<!-- 140128661468328 -->\n",
       "<g class=\"node\" id=\"node6\"><title>140128661468328</title>\n",
       "<polygon fill=\"none\" points=\"185.5,-0.5 185.5,-36.5 316.5,-36.5 316.5,-0.5 185.5,-0.5\" stroke=\"black\"/>\n",
       "<text font-family=\"Times,serif\" font-size=\"14.00\" text-anchor=\"middle\" x=\"251\" y=\"-14.8\">model_3: Model</text>\n",
       "</g>\n",
       "<!-- 140128761966488&#45;&gt;140128661468328 -->\n",
       "<g class=\"edge\" id=\"edge5\"><title>140128761966488-&gt;140128661468328</title>\n",
       "<path d=\"M251,-73.3129C251,-65.2895 251,-55.5475 251,-46.5691\" fill=\"none\" stroke=\"black\"/>\n",
       "<polygon fill=\"black\" points=\"254.5,-46.5288 251,-36.5288 247.5,-46.5289 254.5,-46.5288\" stroke=\"black\"/>\n",
       "</g>\n",
       "</g>\n",
       "</svg>"
      ],
      "text/plain": [
       "<IPython.core.display.SVG object>"
      ]
     },
     "execution_count": 167,
     "metadata": {},
     "output_type": "execute_result"
    }
   ],
   "source": [
    "SVG(show_graph(model_GAN.model))"
   ]
  },
  {
   "cell_type": "code",
   "execution_count": 168,
   "metadata": {
    "colab": {
     "autoexec": {
      "startup": false,
      "wait_interval": 0
     }
    },
    "colab_type": "code",
    "collapsed": true,
    "id": "fhvrsJPgZUAs"
   },
   "outputs": [],
   "source": [
    "# Training the model"
   ]
  },
  {
   "cell_type": "code",
   "execution_count": 169,
   "metadata": {
    "collapsed": true
   },
   "outputs": [],
   "source": [
    "def fit(generator,\n",
    "        discriminator,\n",
    "        GAN,\n",
    "        X_train,\n",
    "        Y_train,\n",
    "        epochs,\n",
    "        batch_size,\n",
    "        verbose=1):\n",
    "\n",
    "    num_steps = len(X_train) // batch_size\n",
    "\n",
    "    for i in range(num_steps):\n",
    "        print('{0:03d}/{1:03d}'.format(i+1, num_steps))\n",
    "        \n",
    "        # Train Discriminator\n",
    "        discriminator['set_trainable'](True)\n",
    "\n",
    "        ## Generate input sequences for Generator\n",
    "        index_batch = np.random.randint(0, X_train.shape[0], size=batch_size)\n",
    "        inputs_generator_X = X_train[index_batch, :]\n",
    "        inputs_generator_Y = Y_train[index_batch, :] \n",
    "\n",
    "        ## Generate train data for Discriminator\n",
    "        ## [(batch_size, dim_input_seq,), (batch_size, dim_output_seq)]->(batch_size, dim_output_seq, dim_output_vocab)\n",
    "        generated_sentences = generator['model'].predict([inputs_generator_X, inputs_generator_Y])\n",
    "        \n",
    "        ## (batch_size, dim_output_seq, dim_output_vocab)->(batch_size, dim_output_seq,)\n",
    "        generated_sentences = [np.argmax(generated_sentences, axis=2)][0]\n",
    "        \n",
    "        ## [(batch_size, dim_output_seq,), (batch_size, dim_output_seq,)]->(batch_size*2, dim_output_seq,)\n",
    "        inputs_discriminator_X = np.concatenate((inputs_generator_Y, generated_sentences))\n",
    "        \n",
    "        inputs_discriminator_Y = np.zeros([2*batch_size, 2])\n",
    "        inputs_discriminator_Y[:batch_size, 1] = 1\n",
    "        inputs_discriminator_Y[batch_size:, 0] = 1   \n",
    "\n",
    "        ## Train Discriminator\n",
    "        print('Training: Discriminator')\n",
    "        discriminator['model'].train_on_batch(inputs_discriminator_X, inputs_discriminator_Y)\n",
    "\n",
    "        # Train Generator\n",
    "        discriminator['set_trainable'](False)\n",
    "\n",
    "        ## Generate input sequences for Generator\n",
    "        index_batch = np.random.randint(0, X_train.shape[0], size=batch_size)\n",
    "        inputs_generator_X = X_train[index_batch, :]\n",
    "        inputs_generator_Y = Y_train[index_batch, :]\n",
    "\n",
    "        target = np.zeros([batch_size, 2])\n",
    "        target[:, 1] = 1\n",
    "        \n",
    "        print('Training: GAN')\n",
    "        GAN['model'].train_on_batch([inputs_generator_X, inputs_generator_Y], target)"
   ]
  },
  {
   "cell_type": "code",
   "execution_count": 170,
   "metadata": {
    "colab": {
     "autoexec": {
      "startup": false,
      "wait_interval": 0
     },
     "output_extras": [
      {}
     ]
    },
    "colab_type": "code",
    "id": "h8sNBBbuZUAw",
    "outputId": "10605c81-0b07-4556-9b75-766ba821b76d"
   },
   "outputs": [
    {
     "name": "stdout",
     "output_type": "stream",
     "text": [
      "001/113\n",
      "Training: Discriminator\n",
      "Training: GAN\n"
     ]
    },
    {
     "ename": "InvalidArgumentError",
     "evalue": "You must feed a value for placeholder tensor 'input_1' with dtype float and shape [?,55]\n\t [[Node: input_1 = Placeholder[dtype=DT_FLOAT, shape=[?,55], _device=\"/job:localhost/replica:0/task:0/device:GPU:0\"]()]]\n\t [[Node: loss_1/mul/_443 = _Recv[client_terminated=false, recv_device=\"/job:localhost/replica:0/task:0/device:CPU:0\", send_device=\"/job:localhost/replica:0/task:0/device:GPU:0\", send_device_incarnation=1, tensor_name=\"edge_17048_loss_1/mul\", tensor_type=DT_FLOAT, _device=\"/job:localhost/replica:0/task:0/device:CPU:0\"]()]]\n\nCaused by op 'input_1', defined at:\n  File \"/usr/lib/python3.5/runpy.py\", line 184, in _run_module_as_main\n    \"__main__\", mod_spec)\n  File \"/usr/lib/python3.5/runpy.py\", line 85, in _run_code\n    exec(code, run_globals)\n  File \"/usr/local/lib/python3.5/dist-packages/ipykernel_launcher.py\", line 16, in <module>\n    app.launch_new_instance()\n  File \"/usr/local/lib/python3.5/dist-packages/traitlets/config/application.py\", line 658, in launch_instance\n    app.start()\n  File \"/usr/local/lib/python3.5/dist-packages/ipykernel/kernelapp.py\", line 477, in start\n    ioloop.IOLoop.instance().start()\n  File \"/usr/local/lib/python3.5/dist-packages/zmq/eventloop/ioloop.py\", line 177, in start\n    super(ZMQIOLoop, self).start()\n  File \"/usr/local/lib/python3.5/dist-packages/tornado/ioloop.py\", line 888, in start\n    handler_func(fd_obj, events)\n  File \"/usr/local/lib/python3.5/dist-packages/tornado/stack_context.py\", line 277, in null_wrapper\n    return fn(*args, **kwargs)\n  File \"/usr/local/lib/python3.5/dist-packages/zmq/eventloop/zmqstream.py\", line 440, in _handle_events\n    self._handle_recv()\n  File \"/usr/local/lib/python3.5/dist-packages/zmq/eventloop/zmqstream.py\", line 472, in _handle_recv\n    self._run_callback(callback, msg)\n  File \"/usr/local/lib/python3.5/dist-packages/zmq/eventloop/zmqstream.py\", line 414, in _run_callback\n    callback(*args, **kwargs)\n  File \"/usr/local/lib/python3.5/dist-packages/tornado/stack_context.py\", line 277, in null_wrapper\n    return fn(*args, **kwargs)\n  File \"/usr/local/lib/python3.5/dist-packages/ipykernel/kernelbase.py\", line 283, in dispatcher\n    return self.dispatch_shell(stream, msg)\n  File \"/usr/local/lib/python3.5/dist-packages/ipykernel/kernelbase.py\", line 235, in dispatch_shell\n    handler(stream, idents, msg)\n  File \"/usr/local/lib/python3.5/dist-packages/ipykernel/kernelbase.py\", line 399, in execute_request\n    user_expressions, allow_stdin)\n  File \"/usr/local/lib/python3.5/dist-packages/ipykernel/ipkernel.py\", line 196, in do_execute\n    res = shell.run_cell(code, store_history=store_history, silent=silent)\n  File \"/usr/local/lib/python3.5/dist-packages/ipykernel/zmqshell.py\", line 533, in run_cell\n    return super(ZMQInteractiveShell, self).run_cell(*args, **kwargs)\n  File \"/usr/local/lib/python3.5/dist-packages/IPython/core/interactiveshell.py\", line 2728, in run_cell\n    interactivity=interactivity, compiler=compiler, result=result)\n  File \"/usr/local/lib/python3.5/dist-packages/IPython/core/interactiveshell.py\", line 2856, in run_ast_nodes\n    if self.run_code(code, result):\n  File \"/usr/local/lib/python3.5/dist-packages/IPython/core/interactiveshell.py\", line 2910, in run_code\n    exec(code_obj, self.user_global_ns, self.user_ns)\n  File \"<ipython-input-156-65c0d7cb539a>\", line 1, in <module>\n    model_generator.compile()\n  File \"<ipython-input-154-37f623b96f0e>\", line 141, in compile\n    self.model = self.inference()\n  File \"<ipython-input-154-37f623b96f0e>\", line 63, in inference\n    self._encoder_inputs = Input(shape=(self.dim_input_seq,))\n  File \"/usr/local/lib/python3.5/dist-packages/keras/engine/topology.py\", line 1439, in Input\n    input_tensor=tensor)\n  File \"/usr/local/lib/python3.5/dist-packages/keras/legacy/interfaces.py\", line 87, in wrapper\n    return func(*args, **kwargs)\n  File \"/usr/local/lib/python3.5/dist-packages/keras/engine/topology.py\", line 1348, in __init__\n    name=self.name)\n  File \"/usr/local/lib/python3.5/dist-packages/keras/backend/tensorflow_backend.py\", line 497, in placeholder\n    x = tf.placeholder(dtype, shape=shape, name=name)\n  File \"/usr/local/lib/python3.5/dist-packages/tensorflow/python/ops/array_ops.py\", line 1599, in placeholder\n    return gen_array_ops._placeholder(dtype=dtype, shape=shape, name=name)\n  File \"/usr/local/lib/python3.5/dist-packages/tensorflow/python/ops/gen_array_ops.py\", line 3091, in _placeholder\n    \"Placeholder\", dtype=dtype, shape=shape, name=name)\n  File \"/usr/local/lib/python3.5/dist-packages/tensorflow/python/framework/op_def_library.py\", line 787, in _apply_op_helper\n    op_def=op_def)\n  File \"/usr/local/lib/python3.5/dist-packages/tensorflow/python/framework/ops.py\", line 2956, in create_op\n    op_def=op_def)\n  File \"/usr/local/lib/python3.5/dist-packages/tensorflow/python/framework/ops.py\", line 1470, in __init__\n    self._traceback = self._graph._extract_stack()  # pylint: disable=protected-access\n\nInvalidArgumentError (see above for traceback): You must feed a value for placeholder tensor 'input_1' with dtype float and shape [?,55]\n\t [[Node: input_1 = Placeholder[dtype=DT_FLOAT, shape=[?,55], _device=\"/job:localhost/replica:0/task:0/device:GPU:0\"]()]]\n\t [[Node: loss_1/mul/_443 = _Recv[client_terminated=false, recv_device=\"/job:localhost/replica:0/task:0/device:CPU:0\", send_device=\"/job:localhost/replica:0/task:0/device:GPU:0\", send_device_incarnation=1, tensor_name=\"edge_17048_loss_1/mul\", tensor_type=DT_FLOAT, _device=\"/job:localhost/replica:0/task:0/device:CPU:0\"]()]]\n",
     "output_type": "error",
     "traceback": [
      "\u001b[0;31m---------------------------------------------------------------------------\u001b[0m",
      "\u001b[0;31mInvalidArgumentError\u001b[0m                      Traceback (most recent call last)",
      "\u001b[0;32m/usr/local/lib/python3.5/dist-packages/tensorflow/python/client/session.py\u001b[0m in \u001b[0;36m_do_call\u001b[0;34m(self, fn, *args)\u001b[0m\n\u001b[1;32m   1322\u001b[0m     \u001b[0;32mtry\u001b[0m\u001b[0;34m:\u001b[0m\u001b[0;34m\u001b[0m\u001b[0m\n\u001b[0;32m-> 1323\u001b[0;31m       \u001b[0;32mreturn\u001b[0m \u001b[0mfn\u001b[0m\u001b[0;34m(\u001b[0m\u001b[0;34m*\u001b[0m\u001b[0margs\u001b[0m\u001b[0;34m)\u001b[0m\u001b[0;34m\u001b[0m\u001b[0m\n\u001b[0m\u001b[1;32m   1324\u001b[0m     \u001b[0;32mexcept\u001b[0m \u001b[0merrors\u001b[0m\u001b[0;34m.\u001b[0m\u001b[0mOpError\u001b[0m \u001b[0;32mas\u001b[0m \u001b[0me\u001b[0m\u001b[0;34m:\u001b[0m\u001b[0;34m\u001b[0m\u001b[0m\n",
      "\u001b[0;32m/usr/local/lib/python3.5/dist-packages/tensorflow/python/client/session.py\u001b[0m in \u001b[0;36m_run_fn\u001b[0;34m(session, feed_dict, fetch_list, target_list, options, run_metadata)\u001b[0m\n\u001b[1;32m   1301\u001b[0m                                    \u001b[0mfeed_dict\u001b[0m\u001b[0;34m,\u001b[0m \u001b[0mfetch_list\u001b[0m\u001b[0;34m,\u001b[0m \u001b[0mtarget_list\u001b[0m\u001b[0;34m,\u001b[0m\u001b[0;34m\u001b[0m\u001b[0m\n\u001b[0;32m-> 1302\u001b[0;31m                                    status, run_metadata)\n\u001b[0m\u001b[1;32m   1303\u001b[0m \u001b[0;34m\u001b[0m\u001b[0m\n",
      "\u001b[0;32m/usr/local/lib/python3.5/dist-packages/tensorflow/python/framework/errors_impl.py\u001b[0m in \u001b[0;36m__exit__\u001b[0;34m(self, type_arg, value_arg, traceback_arg)\u001b[0m\n\u001b[1;32m    472\u001b[0m             \u001b[0mcompat\u001b[0m\u001b[0;34m.\u001b[0m\u001b[0mas_text\u001b[0m\u001b[0;34m(\u001b[0m\u001b[0mc_api\u001b[0m\u001b[0;34m.\u001b[0m\u001b[0mTF_Message\u001b[0m\u001b[0;34m(\u001b[0m\u001b[0mself\u001b[0m\u001b[0;34m.\u001b[0m\u001b[0mstatus\u001b[0m\u001b[0;34m.\u001b[0m\u001b[0mstatus\u001b[0m\u001b[0;34m)\u001b[0m\u001b[0;34m)\u001b[0m\u001b[0;34m,\u001b[0m\u001b[0;34m\u001b[0m\u001b[0m\n\u001b[0;32m--> 473\u001b[0;31m             c_api.TF_GetCode(self.status.status))\n\u001b[0m\u001b[1;32m    474\u001b[0m     \u001b[0;31m# Delete the underlying status object from memory otherwise it stays alive\u001b[0m\u001b[0;34m\u001b[0m\u001b[0;34m\u001b[0m\u001b[0m\n",
      "\u001b[0;31mInvalidArgumentError\u001b[0m: You must feed a value for placeholder tensor 'input_1' with dtype float and shape [?,55]\n\t [[Node: input_1 = Placeholder[dtype=DT_FLOAT, shape=[?,55], _device=\"/job:localhost/replica:0/task:0/device:GPU:0\"]()]]\n\t [[Node: loss_1/mul/_443 = _Recv[client_terminated=false, recv_device=\"/job:localhost/replica:0/task:0/device:CPU:0\", send_device=\"/job:localhost/replica:0/task:0/device:GPU:0\", send_device_incarnation=1, tensor_name=\"edge_17048_loss_1/mul\", tensor_type=DT_FLOAT, _device=\"/job:localhost/replica:0/task:0/device:CPU:0\"]()]]",
      "\nDuring handling of the above exception, another exception occurred:\n",
      "\u001b[0;31mInvalidArgumentError\u001b[0m                      Traceback (most recent call last)",
      "\u001b[0;32m<ipython-input-170-e8915345669d>\u001b[0m in \u001b[0;36m<module>\u001b[0;34m()\u001b[0m\n\u001b[1;32m      6\u001b[0m     \u001b[0mY_train\u001b[0m\u001b[0;34m=\u001b[0m\u001b[0mdata_train\u001b[0m\u001b[0;34m[\u001b[0m\u001b[0;34m'JP'\u001b[0m\u001b[0;34m]\u001b[0m\u001b[0;34m,\u001b[0m\u001b[0;34m\u001b[0m\u001b[0m\n\u001b[1;32m      7\u001b[0m     \u001b[0mepochs\u001b[0m\u001b[0;34m=\u001b[0m\u001b[0;36m1\u001b[0m\u001b[0;34m,\u001b[0m\u001b[0;34m\u001b[0m\u001b[0m\n\u001b[0;32m----> 8\u001b[0;31m     batch_size=128)\n\u001b[0m",
      "\u001b[0;32m<ipython-input-169-1c0584062985>\u001b[0m in \u001b[0;36mfit\u001b[0;34m(generator, discriminator, GAN, X_train, Y_train, epochs, batch_size, verbose)\u001b[0m\n\u001b[1;32m     51\u001b[0m \u001b[0;34m\u001b[0m\u001b[0m\n\u001b[1;32m     52\u001b[0m         \u001b[0mprint\u001b[0m\u001b[0;34m(\u001b[0m\u001b[0;34m'Training: GAN'\u001b[0m\u001b[0;34m)\u001b[0m\u001b[0;34m\u001b[0m\u001b[0m\n\u001b[0;32m---> 53\u001b[0;31m         \u001b[0mGAN\u001b[0m\u001b[0;34m[\u001b[0m\u001b[0;34m'model'\u001b[0m\u001b[0;34m]\u001b[0m\u001b[0;34m.\u001b[0m\u001b[0mtrain_on_batch\u001b[0m\u001b[0;34m(\u001b[0m\u001b[0;34m[\u001b[0m\u001b[0minputs_generator_X\u001b[0m\u001b[0;34m,\u001b[0m \u001b[0minputs_generator_Y\u001b[0m\u001b[0;34m]\u001b[0m\u001b[0;34m,\u001b[0m \u001b[0mtarget\u001b[0m\u001b[0;34m)\u001b[0m\u001b[0;34m\u001b[0m\u001b[0m\n\u001b[0m",
      "\u001b[0;32m/usr/local/lib/python3.5/dist-packages/keras/engine/training.py\u001b[0m in \u001b[0;36mtrain_on_batch\u001b[0;34m(self, x, y, sample_weight, class_weight)\u001b[0m\n\u001b[1;32m   1837\u001b[0m             \u001b[0mins\u001b[0m \u001b[0;34m=\u001b[0m \u001b[0mx\u001b[0m \u001b[0;34m+\u001b[0m \u001b[0my\u001b[0m \u001b[0;34m+\u001b[0m \u001b[0msample_weights\u001b[0m\u001b[0;34m\u001b[0m\u001b[0m\n\u001b[1;32m   1838\u001b[0m         \u001b[0mself\u001b[0m\u001b[0;34m.\u001b[0m\u001b[0m_make_train_function\u001b[0m\u001b[0;34m(\u001b[0m\u001b[0;34m)\u001b[0m\u001b[0;34m\u001b[0m\u001b[0m\n\u001b[0;32m-> 1839\u001b[0;31m         \u001b[0moutputs\u001b[0m \u001b[0;34m=\u001b[0m \u001b[0mself\u001b[0m\u001b[0;34m.\u001b[0m\u001b[0mtrain_function\u001b[0m\u001b[0;34m(\u001b[0m\u001b[0mins\u001b[0m\u001b[0;34m)\u001b[0m\u001b[0;34m\u001b[0m\u001b[0m\n\u001b[0m\u001b[1;32m   1840\u001b[0m         \u001b[0;32mif\u001b[0m \u001b[0mlen\u001b[0m\u001b[0;34m(\u001b[0m\u001b[0moutputs\u001b[0m\u001b[0;34m)\u001b[0m \u001b[0;34m==\u001b[0m \u001b[0;36m1\u001b[0m\u001b[0;34m:\u001b[0m\u001b[0;34m\u001b[0m\u001b[0m\n\u001b[1;32m   1841\u001b[0m             \u001b[0;32mreturn\u001b[0m \u001b[0moutputs\u001b[0m\u001b[0;34m[\u001b[0m\u001b[0;36m0\u001b[0m\u001b[0;34m]\u001b[0m\u001b[0;34m\u001b[0m\u001b[0m\n",
      "\u001b[0;32m/usr/local/lib/python3.5/dist-packages/keras/backend/tensorflow_backend.py\u001b[0m in \u001b[0;36m__call__\u001b[0;34m(self, inputs)\u001b[0m\n\u001b[1;32m   2355\u001b[0m         \u001b[0msession\u001b[0m \u001b[0;34m=\u001b[0m \u001b[0mget_session\u001b[0m\u001b[0;34m(\u001b[0m\u001b[0;34m)\u001b[0m\u001b[0;34m\u001b[0m\u001b[0m\n\u001b[1;32m   2356\u001b[0m         updated = session.run(fetches=fetches, feed_dict=feed_dict,\n\u001b[0;32m-> 2357\u001b[0;31m                               **self.session_kwargs)\n\u001b[0m\u001b[1;32m   2358\u001b[0m         \u001b[0;32mreturn\u001b[0m \u001b[0mupdated\u001b[0m\u001b[0;34m[\u001b[0m\u001b[0;34m:\u001b[0m\u001b[0mlen\u001b[0m\u001b[0;34m(\u001b[0m\u001b[0mself\u001b[0m\u001b[0;34m.\u001b[0m\u001b[0moutputs\u001b[0m\u001b[0;34m)\u001b[0m\u001b[0;34m]\u001b[0m\u001b[0;34m\u001b[0m\u001b[0m\n\u001b[1;32m   2359\u001b[0m \u001b[0;34m\u001b[0m\u001b[0m\n",
      "\u001b[0;32m/usr/local/lib/python3.5/dist-packages/tensorflow/python/client/session.py\u001b[0m in \u001b[0;36mrun\u001b[0;34m(self, fetches, feed_dict, options, run_metadata)\u001b[0m\n\u001b[1;32m    887\u001b[0m     \u001b[0;32mtry\u001b[0m\u001b[0;34m:\u001b[0m\u001b[0;34m\u001b[0m\u001b[0m\n\u001b[1;32m    888\u001b[0m       result = self._run(None, fetches, feed_dict, options_ptr,\n\u001b[0;32m--> 889\u001b[0;31m                          run_metadata_ptr)\n\u001b[0m\u001b[1;32m    890\u001b[0m       \u001b[0;32mif\u001b[0m \u001b[0mrun_metadata\u001b[0m\u001b[0;34m:\u001b[0m\u001b[0;34m\u001b[0m\u001b[0m\n\u001b[1;32m    891\u001b[0m         \u001b[0mproto_data\u001b[0m \u001b[0;34m=\u001b[0m \u001b[0mtf_session\u001b[0m\u001b[0;34m.\u001b[0m\u001b[0mTF_GetBuffer\u001b[0m\u001b[0;34m(\u001b[0m\u001b[0mrun_metadata_ptr\u001b[0m\u001b[0;34m)\u001b[0m\u001b[0;34m\u001b[0m\u001b[0m\n",
      "\u001b[0;32m/usr/local/lib/python3.5/dist-packages/tensorflow/python/client/session.py\u001b[0m in \u001b[0;36m_run\u001b[0;34m(self, handle, fetches, feed_dict, options, run_metadata)\u001b[0m\n\u001b[1;32m   1118\u001b[0m     \u001b[0;32mif\u001b[0m \u001b[0mfinal_fetches\u001b[0m \u001b[0;32mor\u001b[0m \u001b[0mfinal_targets\u001b[0m \u001b[0;32mor\u001b[0m \u001b[0;34m(\u001b[0m\u001b[0mhandle\u001b[0m \u001b[0;32mand\u001b[0m \u001b[0mfeed_dict_tensor\u001b[0m\u001b[0;34m)\u001b[0m\u001b[0;34m:\u001b[0m\u001b[0;34m\u001b[0m\u001b[0m\n\u001b[1;32m   1119\u001b[0m       results = self._do_run(handle, final_targets, final_fetches,\n\u001b[0;32m-> 1120\u001b[0;31m                              feed_dict_tensor, options, run_metadata)\n\u001b[0m\u001b[1;32m   1121\u001b[0m     \u001b[0;32melse\u001b[0m\u001b[0;34m:\u001b[0m\u001b[0;34m\u001b[0m\u001b[0m\n\u001b[1;32m   1122\u001b[0m       \u001b[0mresults\u001b[0m \u001b[0;34m=\u001b[0m \u001b[0;34m[\u001b[0m\u001b[0;34m]\u001b[0m\u001b[0;34m\u001b[0m\u001b[0m\n",
      "\u001b[0;32m/usr/local/lib/python3.5/dist-packages/tensorflow/python/client/session.py\u001b[0m in \u001b[0;36m_do_run\u001b[0;34m(self, handle, target_list, fetch_list, feed_dict, options, run_metadata)\u001b[0m\n\u001b[1;32m   1315\u001b[0m     \u001b[0;32mif\u001b[0m \u001b[0mhandle\u001b[0m \u001b[0;32mis\u001b[0m \u001b[0;32mNone\u001b[0m\u001b[0;34m:\u001b[0m\u001b[0;34m\u001b[0m\u001b[0m\n\u001b[1;32m   1316\u001b[0m       return self._do_call(_run_fn, self._session, feeds, fetches, targets,\n\u001b[0;32m-> 1317\u001b[0;31m                            options, run_metadata)\n\u001b[0m\u001b[1;32m   1318\u001b[0m     \u001b[0;32melse\u001b[0m\u001b[0;34m:\u001b[0m\u001b[0;34m\u001b[0m\u001b[0m\n\u001b[1;32m   1319\u001b[0m       \u001b[0;32mreturn\u001b[0m \u001b[0mself\u001b[0m\u001b[0;34m.\u001b[0m\u001b[0m_do_call\u001b[0m\u001b[0;34m(\u001b[0m\u001b[0m_prun_fn\u001b[0m\u001b[0;34m,\u001b[0m \u001b[0mself\u001b[0m\u001b[0;34m.\u001b[0m\u001b[0m_session\u001b[0m\u001b[0;34m,\u001b[0m \u001b[0mhandle\u001b[0m\u001b[0;34m,\u001b[0m \u001b[0mfeeds\u001b[0m\u001b[0;34m,\u001b[0m \u001b[0mfetches\u001b[0m\u001b[0;34m)\u001b[0m\u001b[0;34m\u001b[0m\u001b[0m\n",
      "\u001b[0;32m/usr/local/lib/python3.5/dist-packages/tensorflow/python/client/session.py\u001b[0m in \u001b[0;36m_do_call\u001b[0;34m(self, fn, *args)\u001b[0m\n\u001b[1;32m   1334\u001b[0m         \u001b[0;32mexcept\u001b[0m \u001b[0mKeyError\u001b[0m\u001b[0;34m:\u001b[0m\u001b[0;34m\u001b[0m\u001b[0m\n\u001b[1;32m   1335\u001b[0m           \u001b[0;32mpass\u001b[0m\u001b[0;34m\u001b[0m\u001b[0m\n\u001b[0;32m-> 1336\u001b[0;31m       \u001b[0;32mraise\u001b[0m \u001b[0mtype\u001b[0m\u001b[0;34m(\u001b[0m\u001b[0me\u001b[0m\u001b[0;34m)\u001b[0m\u001b[0;34m(\u001b[0m\u001b[0mnode_def\u001b[0m\u001b[0;34m,\u001b[0m \u001b[0mop\u001b[0m\u001b[0;34m,\u001b[0m \u001b[0mmessage\u001b[0m\u001b[0;34m)\u001b[0m\u001b[0;34m\u001b[0m\u001b[0m\n\u001b[0m\u001b[1;32m   1337\u001b[0m \u001b[0;34m\u001b[0m\u001b[0m\n\u001b[1;32m   1338\u001b[0m   \u001b[0;32mdef\u001b[0m \u001b[0m_extend_graph\u001b[0m\u001b[0;34m(\u001b[0m\u001b[0mself\u001b[0m\u001b[0;34m)\u001b[0m\u001b[0;34m:\u001b[0m\u001b[0;34m\u001b[0m\u001b[0m\n",
      "\u001b[0;31mInvalidArgumentError\u001b[0m: You must feed a value for placeholder tensor 'input_1' with dtype float and shape [?,55]\n\t [[Node: input_1 = Placeholder[dtype=DT_FLOAT, shape=[?,55], _device=\"/job:localhost/replica:0/task:0/device:GPU:0\"]()]]\n\t [[Node: loss_1/mul/_443 = _Recv[client_terminated=false, recv_device=\"/job:localhost/replica:0/task:0/device:CPU:0\", send_device=\"/job:localhost/replica:0/task:0/device:GPU:0\", send_device_incarnation=1, tensor_name=\"edge_17048_loss_1/mul\", tensor_type=DT_FLOAT, _device=\"/job:localhost/replica:0/task:0/device:CPU:0\"]()]]\n\nCaused by op 'input_1', defined at:\n  File \"/usr/lib/python3.5/runpy.py\", line 184, in _run_module_as_main\n    \"__main__\", mod_spec)\n  File \"/usr/lib/python3.5/runpy.py\", line 85, in _run_code\n    exec(code, run_globals)\n  File \"/usr/local/lib/python3.5/dist-packages/ipykernel_launcher.py\", line 16, in <module>\n    app.launch_new_instance()\n  File \"/usr/local/lib/python3.5/dist-packages/traitlets/config/application.py\", line 658, in launch_instance\n    app.start()\n  File \"/usr/local/lib/python3.5/dist-packages/ipykernel/kernelapp.py\", line 477, in start\n    ioloop.IOLoop.instance().start()\n  File \"/usr/local/lib/python3.5/dist-packages/zmq/eventloop/ioloop.py\", line 177, in start\n    super(ZMQIOLoop, self).start()\n  File \"/usr/local/lib/python3.5/dist-packages/tornado/ioloop.py\", line 888, in start\n    handler_func(fd_obj, events)\n  File \"/usr/local/lib/python3.5/dist-packages/tornado/stack_context.py\", line 277, in null_wrapper\n    return fn(*args, **kwargs)\n  File \"/usr/local/lib/python3.5/dist-packages/zmq/eventloop/zmqstream.py\", line 440, in _handle_events\n    self._handle_recv()\n  File \"/usr/local/lib/python3.5/dist-packages/zmq/eventloop/zmqstream.py\", line 472, in _handle_recv\n    self._run_callback(callback, msg)\n  File \"/usr/local/lib/python3.5/dist-packages/zmq/eventloop/zmqstream.py\", line 414, in _run_callback\n    callback(*args, **kwargs)\n  File \"/usr/local/lib/python3.5/dist-packages/tornado/stack_context.py\", line 277, in null_wrapper\n    return fn(*args, **kwargs)\n  File \"/usr/local/lib/python3.5/dist-packages/ipykernel/kernelbase.py\", line 283, in dispatcher\n    return self.dispatch_shell(stream, msg)\n  File \"/usr/local/lib/python3.5/dist-packages/ipykernel/kernelbase.py\", line 235, in dispatch_shell\n    handler(stream, idents, msg)\n  File \"/usr/local/lib/python3.5/dist-packages/ipykernel/kernelbase.py\", line 399, in execute_request\n    user_expressions, allow_stdin)\n  File \"/usr/local/lib/python3.5/dist-packages/ipykernel/ipkernel.py\", line 196, in do_execute\n    res = shell.run_cell(code, store_history=store_history, silent=silent)\n  File \"/usr/local/lib/python3.5/dist-packages/ipykernel/zmqshell.py\", line 533, in run_cell\n    return super(ZMQInteractiveShell, self).run_cell(*args, **kwargs)\n  File \"/usr/local/lib/python3.5/dist-packages/IPython/core/interactiveshell.py\", line 2728, in run_cell\n    interactivity=interactivity, compiler=compiler, result=result)\n  File \"/usr/local/lib/python3.5/dist-packages/IPython/core/interactiveshell.py\", line 2856, in run_ast_nodes\n    if self.run_code(code, result):\n  File \"/usr/local/lib/python3.5/dist-packages/IPython/core/interactiveshell.py\", line 2910, in run_code\n    exec(code_obj, self.user_global_ns, self.user_ns)\n  File \"<ipython-input-156-65c0d7cb539a>\", line 1, in <module>\n    model_generator.compile()\n  File \"<ipython-input-154-37f623b96f0e>\", line 141, in compile\n    self.model = self.inference()\n  File \"<ipython-input-154-37f623b96f0e>\", line 63, in inference\n    self._encoder_inputs = Input(shape=(self.dim_input_seq,))\n  File \"/usr/local/lib/python3.5/dist-packages/keras/engine/topology.py\", line 1439, in Input\n    input_tensor=tensor)\n  File \"/usr/local/lib/python3.5/dist-packages/keras/legacy/interfaces.py\", line 87, in wrapper\n    return func(*args, **kwargs)\n  File \"/usr/local/lib/python3.5/dist-packages/keras/engine/topology.py\", line 1348, in __init__\n    name=self.name)\n  File \"/usr/local/lib/python3.5/dist-packages/keras/backend/tensorflow_backend.py\", line 497, in placeholder\n    x = tf.placeholder(dtype, shape=shape, name=name)\n  File \"/usr/local/lib/python3.5/dist-packages/tensorflow/python/ops/array_ops.py\", line 1599, in placeholder\n    return gen_array_ops._placeholder(dtype=dtype, shape=shape, name=name)\n  File \"/usr/local/lib/python3.5/dist-packages/tensorflow/python/ops/gen_array_ops.py\", line 3091, in _placeholder\n    \"Placeholder\", dtype=dtype, shape=shape, name=name)\n  File \"/usr/local/lib/python3.5/dist-packages/tensorflow/python/framework/op_def_library.py\", line 787, in _apply_op_helper\n    op_def=op_def)\n  File \"/usr/local/lib/python3.5/dist-packages/tensorflow/python/framework/ops.py\", line 2956, in create_op\n    op_def=op_def)\n  File \"/usr/local/lib/python3.5/dist-packages/tensorflow/python/framework/ops.py\", line 1470, in __init__\n    self._traceback = self._graph._extract_stack()  # pylint: disable=protected-access\n\nInvalidArgumentError (see above for traceback): You must feed a value for placeholder tensor 'input_1' with dtype float and shape [?,55]\n\t [[Node: input_1 = Placeholder[dtype=DT_FLOAT, shape=[?,55], _device=\"/job:localhost/replica:0/task:0/device:GPU:0\"]()]]\n\t [[Node: loss_1/mul/_443 = _Recv[client_terminated=false, recv_device=\"/job:localhost/replica:0/task:0/device:CPU:0\", send_device=\"/job:localhost/replica:0/task:0/device:GPU:0\", send_device_incarnation=1, tensor_name=\"edge_17048_loss_1/mul\", tensor_type=DT_FLOAT, _device=\"/job:localhost/replica:0/task:0/device:CPU:0\"]()]]\n"
     ]
    }
   ],
   "source": [
    "fit(generator={'model': model_generator.model},\n",
    "    discriminator={'model': model_discriminator.model,\n",
    "                   'set_trainable': model_discriminator.set_trainable},\n",
    "    GAN={'model': model_GAN.model},\n",
    "    X_train=data_train['EN'],\n",
    "    Y_train=data_train['JP'],\n",
    "    epochs=1,\n",
    "    batch_size=128)"
   ]
  }
 ],
 "metadata": {
  "colab": {
   "default_view": {},
   "name": "FinalExam_100.ipynb",
   "provenance": [],
   "version": "0.3.2",
   "views": {}
  },
  "kernelspec": {
   "display_name": "Python 3",
   "language": "python",
   "name": "python3"
  },
  "language_info": {
   "codemirror_mode": {
    "name": "ipython",
    "version": 3
   },
   "file_extension": ".py",
   "mimetype": "text/x-python",
   "name": "python",
   "nbconvert_exporter": "python",
   "pygments_lexer": "ipython3",
   "version": "3.6.1"
  }
 },
 "nbformat": 4,
 "nbformat_minor": 2
}
